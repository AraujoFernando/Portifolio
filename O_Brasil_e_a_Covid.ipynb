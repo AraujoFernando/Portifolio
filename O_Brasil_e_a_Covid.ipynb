{
  "nbformat": 4,
  "nbformat_minor": 0,
  "metadata": {
    "colab": {
      "name": "O Brasil e a Covid.ipynb",
      "provenance": [],
      "collapsed_sections": [],
      "include_colab_link": true
    },
    "kernelspec": {
      "name": "python3",
      "display_name": "Python 3"
    }
  },
  "cells": [
    {
      "cell_type": "markdown",
      "metadata": {
        "id": "view-in-github",
        "colab_type": "text"
      },
      "source": [
        "<a href=\"https://colab.research.google.com/github/AraujoFernando/Portifolio/blob/master/O_Brasil_e_a_Covid.ipynb\" target=\"_parent\"><img src=\"https://colab.research.google.com/assets/colab-badge.svg\" alt=\"Open In Colab\"/></a>"
      ]
    },
    {
      "cell_type": "markdown",
      "metadata": {
        "id": "kLI0gJtzDGuQ",
        "colab_type": "text"
      },
      "source": [
        "<center><img alt=\"Colaboratory logo\" width=\"100%\" src=\"https://abcreporter.com.br/wp-content/uploads/2020/03/Coronavirus-AbcReporter.jpg\"></center>\n",
        "\n",
        "# Panorama do COVID-19 no Brasil\n",
        "\n",
        "A COVID-19 é uma doença causada pelo coronavírus **SARS-CoV-2**, que apresenta um quadro clínico que varia de infecções assintomáticas a quadros respiratórios graves. De acordo com a Organização Mundial de Saúde (OMS), a maioria dos pacientes com COVID-19 (cerca de 80%) podem ser assintomáticos e cerca de 20% dos casos podem requerer atendimento hospitalar por apresentarem dificuldade respiratória e desses casos aproximadamente 5% podem necessitar de suporte para o tratamento de insuficiência respiratória (suporte ventilatório).\n",
        "\n",
        "Transmitido principalmente por meio de gotículas provenientes de tosses ou espirros de pessoas infectadas, a gravidade dos sintomas varia muito de pessoa para pessoa.\n",
        "\n",
        "Fato é, não se sabe muita coisa a respeito do COVID-19. Estudos estão sendo realizados no mundo todo, porém os resultados ainda não são conclusivos e definitivos.\n",
        "\n",
        "Com o objetivo de elevar a consciência situacional a respeito do COVID-19 no Brasil, irei realizar uma análise sobre os dados públicos da doença."
      ]
    },
    {
      "cell_type": "markdown",
      "metadata": {
        "id": "0zxQHhIUDF_2",
        "colab_type": "text"
      },
      "source": [
        "## Obtenção dos Dados\n",
        "\n",
        "Os dados utilizados análise foram retirados do repositório [Own World in Data](https://github.com/owid), que atualiza diariamente os dados referentes ao Covid-19  \n",
        "\n",
        "Não é possível afirmar que os dados sejam 100% fidedignos a realidade, pois, existe um grande vale entre coleta e disponibilização, tanto nas esferas, municipal, estadual e federal.\n",
        "\n",
        "### Dicionário de Variáveis\n",
        "* iso_code - códigos de países com três letras\n",
        "* continent - Continente em que está localizado\n",
        "* location - Localização geográfica\n",
        "* date - Data de observação\n",
        "* total_cases - Total confirmado de casos\n",
        "* new_cases - Novos casos confirmados\n",
        "* total_deaths - Total de mortes atribuidas ao covid-19\n",
        "* new_deaths - Novas mortes atribuidas ao covid-19\n",
        "* total_cases_per_million - Total de casos por 1.000.000 de habitantes\n",
        "* new_cases_per_million - Total de novos casos por 1.000.000 de habitantes\n",
        "* total_deaths_per_million - Total de mortes por 1.000.000 de habitantes\n",
        "* new_deaths_per_million - Total de novas mortes por 1.000.000 de habitantes\n",
        "* total_tests - total de testes\n",
        "* new_tests - Novos testes\n",
        "* total_tests_per_thousand - Total de testes por 1000 habitantes\n",
        "* new_tests_per_thousand - Total de novos teste por por 1000 habitantes\n",
        "* new_tests_smoothed - New tests for COVID-19 (7-day smoothed)\n",
        "* new_tests_smoothed_per_thousand - New tests for COVID-19 (7-day smoothed) por 1000 habitantes\n",
        "* tests_units - Unidades usadas pelo local para relatar seus dados de teste\n",
        "* stringency_index - Índice de Estresse da Resposta do Governo: medida composta baseada em 9 indicadores de resposta, incluindo fechamento de escolas, fechamento de locais de trabalho e proibições de viagens, redimensionada para um valor de 0 a 100 (100 = resposta mais estrita)\n",
        "* population - População em 2020\n",
        "* population_density - Número de pessoas divididas por área terrestre, medida em quilômetros quadrados, no ano mais recente disponível\n",
        "* median_age - Idade média da população, projeção da ONU para 2020\n",
        "* aged_65_older - Proporção da população com 65 anos ou mais, ano mais recente disponível\n",
        "* aged_70_older - Percentagem da população com 70 anos ou mais em 2015\n",
        "* gdp_per_capita - Produto interno bruto com paridade do poder de compra (dólares internacionais constantes de 2011), último ano disponível\n",
        "* extreme_poverty - Percentagem da população que vive em extrema pobreza, último ano disponível desde 2010\n",
        "* cvd_death_rate - Taxa de mortalidade por doenças cardiovasculares em 2017\n",
        "* diabetes_prevalence - Prevalência de diabetes - (% da população entre 20 e 79 anos) em 2017\n",
        "* female_smokers -Percentagem de mulheres que fumam, último ano disponível\n",
        "* male_smokers - Percentagem de homens que fumam, último ano disponível\n",
        "* handwashing_facilities - Percentagem da população com instalações básicas de lavagem das mãos nas instalações, último ano disponível\n",
        "* hospital_beds_per_thousand - Camas de hospital por 1.000 pessoas, último ano disponível desde 2010\n",
        "* life_expectancy -  Expectativa de vida no nascimento em 2019\n",
        "\n"
      ]
    },
    {
      "cell_type": "code",
      "metadata": {
        "id": "lOtEJxe0DMEb",
        "colab_type": "code",
        "colab": {}
      },
      "source": [
        "# importar as bibliotecas necessárias\n",
        "import pandas as pd\n",
        "import matplotlib.pyplot as plt\n",
        "import seaborn as sns\n",
        "!pip install pywaffle -q\n",
        "\n",
        "\n",
        "sns.set(style=\"darkgrid\")\n",
        "%matplotlib inline\n",
        "\n",
        "import warnings\n",
        "warnings.filterwarnings('ignore')\n",
        "\n",
        "# importar o dataset COVID-19 para um DataFrame\n",
        "path = pd.read_csv('https://raw.githubusercontent.com/owid/covid-19-data/master/public/data/owid-covid-data.csv')\n",
        "df = pd.DataFrame(path)"
      ],
      "execution_count": null,
      "outputs": []
    },
    {
      "cell_type": "markdown",
      "metadata": {
        "id": "qb5By2nIMS6m",
        "colab_type": "text"
      },
      "source": [
        "## Análise Exploratória dos Dados\n",
        "Vamos fazer uma análise exploratória para conhecer o nosso DataFrame.\n",
        "\n",
        "### Análise Exploratória Inicial\n",
        "\n",
        "* *Visualizar as 5 primeiras entradas*\n",
        "    * `df.head()`\n",
        "* *Qual o tamanho do seu DataFrame*\n",
        "    * `df.shape`\n",
        "* *Extrair e imprimir os nomes das colunas*\n",
        "    * `df.columns`\n",
        "* *Quais os tipos das variáveis*\n",
        "    * `df.dtypes`\n",
        "* *Identifique a porcentagem de valores ausentes das colunas*\n",
        "    * `df.isnull().sum() / df.shape[0]` ou\n",
        "    * `(df.isnull().sum() / df.shape[0]).sort_values(ascending=False)` *para ordem decrescente.*\n",
        "* *Transforme a coluna `date` no formato `datetime`*\n",
        "    * `df.date = pd.to_datetime(df.date)`\n",
        "* *Ver para a data mais atual, quais os países que têm mais casos e mortes. Veja o exemplo:*\n",
        "    * `df.loc[df.date == '2020-06-14'].sort_values(by=\"total_cases\", ascending=False)`\n",
        "    * `df.loc[df.date == '2020-06-14'].sort_values(by=\"total_deaths\", ascending=False)`\n",
        "* Plotar um gráfico de barras para os 5 países com mais mortes\n",
        "    * `df.loc[df.date == '2020-06-14', ['location', 'total_deaths']].sort_values(by=\"total_deaths\", ascending=False)[1:6]`\n",
        "    * `ax.bar('location', 'total_deaths', data=top5_total_deaths)`\n",
        "* Plotar um gráfico de linhas para ver a evolução do total de casos de COVID-19 no mundo.\n",
        "    * `df.loc[df.location == \"World\", \"total_deaths\"].reset_index(drop=True).plot()`\n",
        "* [OPCIONAL] Plotar um gráfico de dispersão considerando `gdp_per_capita` (ou seja, o PIB dos países) pelo número total de mortos. Pegue a data mais recente apenas.\n",
        "    * Lembre-se que não é nada conclusivo, pois envolve fatores como proporcão de testes, etc.\n"
      ]
    },
    {
      "cell_type": "markdown",
      "metadata": {
        "id": "korPRLCS_LBB",
        "colab_type": "text"
      },
      "source": [
        "###Dimensões\n",
        "Precisamos saber com o que estamos lidando. Vamos conhecer as dimenssões do nosso DataFrame."
      ]
    },
    {
      "cell_type": "markdown",
      "metadata": {
        "id": "NFdBqj-HNrx4",
        "colab_type": "text"
      },
      "source": [
        "Vamos verificar qual a atualização mais recente verificando coluna `date`."
      ]
    },
    {
      "cell_type": "code",
      "metadata": {
        "id": "k2Lu5kdaR2Mq",
        "colab_type": "code",
        "colab": {}
      },
      "source": [
        ""
      ],
      "execution_count": null,
      "outputs": []
    },
    {
      "cell_type": "code",
      "metadata": {
        "id": "9InzY6VhMvpl",
        "colab_type": "code",
        "colab": {
          "base_uri": "https://localhost:8080/",
          "height": 117
        },
        "outputId": "1ff78be6-9f36-416a-8990-5d93ee451d07"
      },
      "source": [
        "# verificando a ultima atualização do dataset\n",
        "df.loc[df.date == df.date.max()].tail(1)"
      ],
      "execution_count": null,
      "outputs": [
        {
          "output_type": "execute_result",
          "data": {
            "text/html": [
              "<div>\n",
              "<style scoped>\n",
              "    .dataframe tbody tr th:only-of-type {\n",
              "        vertical-align: middle;\n",
              "    }\n",
              "\n",
              "    .dataframe tbody tr th {\n",
              "        vertical-align: top;\n",
              "    }\n",
              "\n",
              "    .dataframe thead th {\n",
              "        text-align: right;\n",
              "    }\n",
              "</style>\n",
              "<table border=\"1\" class=\"dataframe\">\n",
              "  <thead>\n",
              "    <tr style=\"text-align: right;\">\n",
              "      <th></th>\n",
              "      <th>iso_code</th>\n",
              "      <th>continent</th>\n",
              "      <th>location</th>\n",
              "      <th>date</th>\n",
              "      <th>total_cases</th>\n",
              "      <th>new_cases</th>\n",
              "      <th>total_deaths</th>\n",
              "      <th>new_deaths</th>\n",
              "      <th>total_cases_per_million</th>\n",
              "      <th>new_cases_per_million</th>\n",
              "      <th>total_deaths_per_million</th>\n",
              "      <th>new_deaths_per_million</th>\n",
              "      <th>total_tests</th>\n",
              "      <th>new_tests</th>\n",
              "      <th>total_tests_per_thousand</th>\n",
              "      <th>new_tests_per_thousand</th>\n",
              "      <th>new_tests_smoothed</th>\n",
              "      <th>new_tests_smoothed_per_thousand</th>\n",
              "      <th>tests_units</th>\n",
              "      <th>stringency_index</th>\n",
              "      <th>population</th>\n",
              "      <th>population_density</th>\n",
              "      <th>median_age</th>\n",
              "      <th>aged_65_older</th>\n",
              "      <th>aged_70_older</th>\n",
              "      <th>gdp_per_capita</th>\n",
              "      <th>extreme_poverty</th>\n",
              "      <th>cvd_death_rate</th>\n",
              "      <th>diabetes_prevalence</th>\n",
              "      <th>female_smokers</th>\n",
              "      <th>male_smokers</th>\n",
              "      <th>handwashing_facilities</th>\n",
              "      <th>hospital_beds_per_thousand</th>\n",
              "      <th>life_expectancy</th>\n",
              "    </tr>\n",
              "  </thead>\n",
              "  <tbody>\n",
              "    <tr>\n",
              "      <th>30799</th>\n",
              "      <td>OWID_WRL</td>\n",
              "      <td>NaN</td>\n",
              "      <td>World</td>\n",
              "      <td>2020-07-17</td>\n",
              "      <td>13788300.0</td>\n",
              "      <td>256314.0</td>\n",
              "      <td>589688.0</td>\n",
              "      <td>5793.0</td>\n",
              "      <td>1768.91</td>\n",
              "      <td>32.883</td>\n",
              "      <td>75.651</td>\n",
              "      <td>0.743</td>\n",
              "      <td>NaN</td>\n",
              "      <td>NaN</td>\n",
              "      <td>NaN</td>\n",
              "      <td>NaN</td>\n",
              "      <td>NaN</td>\n",
              "      <td>NaN</td>\n",
              "      <td>NaN</td>\n",
              "      <td>NaN</td>\n",
              "      <td>7.794799e+09</td>\n",
              "      <td>58.045</td>\n",
              "      <td>30.9</td>\n",
              "      <td>8.696</td>\n",
              "      <td>5.355</td>\n",
              "      <td>15469.207</td>\n",
              "      <td>10.0</td>\n",
              "      <td>233.07</td>\n",
              "      <td>8.51</td>\n",
              "      <td>6.434</td>\n",
              "      <td>34.635</td>\n",
              "      <td>60.13</td>\n",
              "      <td>2.705</td>\n",
              "      <td>72.58</td>\n",
              "    </tr>\n",
              "  </tbody>\n",
              "</table>\n",
              "</div>"
            ],
            "text/plain": [
              "       iso_code continent  ... hospital_beds_per_thousand life_expectancy\n",
              "30799  OWID_WRL       NaN  ...                      2.705           72.58\n",
              "\n",
              "[1 rows x 34 columns]"
            ]
          },
          "metadata": {
            "tags": []
          },
          "execution_count": 80
        }
      ]
    },
    {
      "cell_type": "code",
      "metadata": {
        "id": "w1k1hMfYml6B",
        "colab_type": "code",
        "colab": {
          "base_uri": "https://localhost:8080/",
          "height": 377
        },
        "outputId": "cbfc5ec3-8be1-4d0e-83b0-f6dae747b482"
      },
      "source": [
        "# verifiando o tamanho do dataframe\n",
        "print(f'Dimenssões:\\nEntradas: {df.shape[0]}\\nVariáveis: {df.shape[1]}')\n",
        "\n",
        "# visualizando as 5 primeiras entradas\n",
        "df.sample(5)\n"
      ],
      "execution_count": null,
      "outputs": [
        {
          "output_type": "stream",
          "text": [
            "Dimenssões:\n",
            "Entradas: 30864\n",
            "Variáveis: 34\n"
          ],
          "name": "stdout"
        },
        {
          "output_type": "execute_result",
          "data": {
            "text/html": [
              "<div>\n",
              "<style scoped>\n",
              "    .dataframe tbody tr th:only-of-type {\n",
              "        vertical-align: middle;\n",
              "    }\n",
              "\n",
              "    .dataframe tbody tr th {\n",
              "        vertical-align: top;\n",
              "    }\n",
              "\n",
              "    .dataframe thead th {\n",
              "        text-align: right;\n",
              "    }\n",
              "</style>\n",
              "<table border=\"1\" class=\"dataframe\">\n",
              "  <thead>\n",
              "    <tr style=\"text-align: right;\">\n",
              "      <th></th>\n",
              "      <th>iso_code</th>\n",
              "      <th>continent</th>\n",
              "      <th>location</th>\n",
              "      <th>date</th>\n",
              "      <th>total_cases</th>\n",
              "      <th>new_cases</th>\n",
              "      <th>total_deaths</th>\n",
              "      <th>new_deaths</th>\n",
              "      <th>total_cases_per_million</th>\n",
              "      <th>new_cases_per_million</th>\n",
              "      <th>total_deaths_per_million</th>\n",
              "      <th>new_deaths_per_million</th>\n",
              "      <th>total_tests</th>\n",
              "      <th>new_tests</th>\n",
              "      <th>total_tests_per_thousand</th>\n",
              "      <th>new_tests_per_thousand</th>\n",
              "      <th>new_tests_smoothed</th>\n",
              "      <th>new_tests_smoothed_per_thousand</th>\n",
              "      <th>tests_units</th>\n",
              "      <th>stringency_index</th>\n",
              "      <th>population</th>\n",
              "      <th>population_density</th>\n",
              "      <th>median_age</th>\n",
              "      <th>aged_65_older</th>\n",
              "      <th>aged_70_older</th>\n",
              "      <th>gdp_per_capita</th>\n",
              "      <th>extreme_poverty</th>\n",
              "      <th>cvd_death_rate</th>\n",
              "      <th>diabetes_prevalence</th>\n",
              "      <th>female_smokers</th>\n",
              "      <th>male_smokers</th>\n",
              "      <th>handwashing_facilities</th>\n",
              "      <th>hospital_beds_per_thousand</th>\n",
              "      <th>life_expectancy</th>\n",
              "    </tr>\n",
              "  </thead>\n",
              "  <tbody>\n",
              "    <tr>\n",
              "      <th>22396</th>\n",
              "      <td>POL</td>\n",
              "      <td>Europe</td>\n",
              "      <td>Poland</td>\n",
              "      <td>2020-05-25</td>\n",
              "      <td>21326.0</td>\n",
              "      <td>395.0</td>\n",
              "      <td>996.0</td>\n",
              "      <td>3.0</td>\n",
              "      <td>563.485</td>\n",
              "      <td>10.437</td>\n",
              "      <td>26.317</td>\n",
              "      <td>0.079</td>\n",
              "      <td>779576.0</td>\n",
              "      <td>12135.0</td>\n",
              "      <td>20.598</td>\n",
              "      <td>0.321</td>\n",
              "      <td>20504.0</td>\n",
              "      <td>0.542</td>\n",
              "      <td>samples tested</td>\n",
              "      <td>79.63</td>\n",
              "      <td>37846605.0</td>\n",
              "      <td>124.027</td>\n",
              "      <td>41.8</td>\n",
              "      <td>16.763</td>\n",
              "      <td>10.202</td>\n",
              "      <td>27216.445</td>\n",
              "      <td>NaN</td>\n",
              "      <td>227.331</td>\n",
              "      <td>5.91</td>\n",
              "      <td>23.3</td>\n",
              "      <td>33.1</td>\n",
              "      <td>NaN</td>\n",
              "      <td>6.62</td>\n",
              "      <td>78.73</td>\n",
              "    </tr>\n",
              "    <tr>\n",
              "      <th>7511</th>\n",
              "      <td>COD</td>\n",
              "      <td>Africa</td>\n",
              "      <td>Democratic Republic of Congo</td>\n",
              "      <td>2020-04-26</td>\n",
              "      <td>442.0</td>\n",
              "      <td>26.0</td>\n",
              "      <td>28.0</td>\n",
              "      <td>0.0</td>\n",
              "      <td>4.935</td>\n",
              "      <td>0.290</td>\n",
              "      <td>0.313</td>\n",
              "      <td>0.000</td>\n",
              "      <td>NaN</td>\n",
              "      <td>NaN</td>\n",
              "      <td>NaN</td>\n",
              "      <td>NaN</td>\n",
              "      <td>NaN</td>\n",
              "      <td>NaN</td>\n",
              "      <td>samples tested</td>\n",
              "      <td>80.56</td>\n",
              "      <td>89561404.0</td>\n",
              "      <td>35.879</td>\n",
              "      <td>17.0</td>\n",
              "      <td>3.020</td>\n",
              "      <td>1.745</td>\n",
              "      <td>808.133</td>\n",
              "      <td>77.1</td>\n",
              "      <td>318.949</td>\n",
              "      <td>6.10</td>\n",
              "      <td>NaN</td>\n",
              "      <td>NaN</td>\n",
              "      <td>4.472</td>\n",
              "      <td>NaN</td>\n",
              "      <td>60.68</td>\n",
              "    </tr>\n",
              "    <tr>\n",
              "      <th>2297</th>\n",
              "      <td>BHR</td>\n",
              "      <td>Asia</td>\n",
              "      <td>Bahrain</td>\n",
              "      <td>2020-05-28</td>\n",
              "      <td>9633.0</td>\n",
              "      <td>267.0</td>\n",
              "      <td>15.0</td>\n",
              "      <td>1.0</td>\n",
              "      <td>5661.199</td>\n",
              "      <td>156.913</td>\n",
              "      <td>8.815</td>\n",
              "      <td>0.588</td>\n",
              "      <td>297873.0</td>\n",
              "      <td>6746.0</td>\n",
              "      <td>175.056</td>\n",
              "      <td>3.965</td>\n",
              "      <td>5067.0</td>\n",
              "      <td>2.978</td>\n",
              "      <td>units unclear</td>\n",
              "      <td>75.00</td>\n",
              "      <td>1701583.0</td>\n",
              "      <td>1935.907</td>\n",
              "      <td>32.4</td>\n",
              "      <td>2.372</td>\n",
              "      <td>1.387</td>\n",
              "      <td>43290.705</td>\n",
              "      <td>NaN</td>\n",
              "      <td>151.689</td>\n",
              "      <td>16.52</td>\n",
              "      <td>5.8</td>\n",
              "      <td>37.6</td>\n",
              "      <td>NaN</td>\n",
              "      <td>2.00</td>\n",
              "      <td>77.29</td>\n",
              "    </tr>\n",
              "    <tr>\n",
              "      <th>11584</th>\n",
              "      <td>GUM</td>\n",
              "      <td>Oceania</td>\n",
              "      <td>Guam</td>\n",
              "      <td>2020-04-10</td>\n",
              "      <td>128.0</td>\n",
              "      <td>3.0</td>\n",
              "      <td>4.0</td>\n",
              "      <td>0.0</td>\n",
              "      <td>758.370</td>\n",
              "      <td>17.774</td>\n",
              "      <td>23.699</td>\n",
              "      <td>0.000</td>\n",
              "      <td>NaN</td>\n",
              "      <td>NaN</td>\n",
              "      <td>NaN</td>\n",
              "      <td>NaN</td>\n",
              "      <td>NaN</td>\n",
              "      <td>NaN</td>\n",
              "      <td>NaN</td>\n",
              "      <td>67.59</td>\n",
              "      <td>168783.0</td>\n",
              "      <td>304.128</td>\n",
              "      <td>31.4</td>\n",
              "      <td>9.551</td>\n",
              "      <td>5.493</td>\n",
              "      <td>NaN</td>\n",
              "      <td>NaN</td>\n",
              "      <td>310.496</td>\n",
              "      <td>21.52</td>\n",
              "      <td>NaN</td>\n",
              "      <td>NaN</td>\n",
              "      <td>NaN</td>\n",
              "      <td>NaN</td>\n",
              "      <td>80.07</td>\n",
              "    </tr>\n",
              "    <tr>\n",
              "      <th>7454</th>\n",
              "      <td>CZE</td>\n",
              "      <td>Europe</td>\n",
              "      <td>Czech Republic</td>\n",
              "      <td>2020-07-05</td>\n",
              "      <td>12440.0</td>\n",
              "      <td>121.0</td>\n",
              "      <td>351.0</td>\n",
              "      <td>-1.0</td>\n",
              "      <td>1161.642</td>\n",
              "      <td>11.299</td>\n",
              "      <td>32.776</td>\n",
              "      <td>-0.093</td>\n",
              "      <td>573667.0</td>\n",
              "      <td>1524.0</td>\n",
              "      <td>53.569</td>\n",
              "      <td>0.142</td>\n",
              "      <td>3782.0</td>\n",
              "      <td>0.353</td>\n",
              "      <td>tests performed</td>\n",
              "      <td>34.72</td>\n",
              "      <td>10708982.0</td>\n",
              "      <td>137.176</td>\n",
              "      <td>43.3</td>\n",
              "      <td>19.027</td>\n",
              "      <td>11.580</td>\n",
              "      <td>32605.906</td>\n",
              "      <td>NaN</td>\n",
              "      <td>227.485</td>\n",
              "      <td>6.82</td>\n",
              "      <td>30.5</td>\n",
              "      <td>38.3</td>\n",
              "      <td>NaN</td>\n",
              "      <td>6.63</td>\n",
              "      <td>79.38</td>\n",
              "    </tr>\n",
              "  </tbody>\n",
              "</table>\n",
              "</div>"
            ],
            "text/plain": [
              "      iso_code continent  ... hospital_beds_per_thousand life_expectancy\n",
              "22396      POL    Europe  ...                       6.62           78.73\n",
              "7511       COD    Africa  ...                        NaN           60.68\n",
              "2297       BHR      Asia  ...                       2.00           77.29\n",
              "11584      GUM   Oceania  ...                        NaN           80.07\n",
              "7454       CZE    Europe  ...                       6.63           79.38\n",
              "\n",
              "[5 rows x 34 columns]"
            ]
          },
          "metadata": {
            "tags": []
          },
          "execution_count": 82
        }
      ]
    },
    {
      "cell_type": "code",
      "metadata": {
        "id": "iFL5vxUGz0DS",
        "colab_type": "code",
        "colab": {
          "base_uri": "https://localhost:8080/",
          "height": 612
        },
        "outputId": "d8147f54-62ee-4f81-c10a-ac8857888342"
      },
      "source": [
        "# verificando os tipos das variáveis\n",
        "df.dtypes"
      ],
      "execution_count": null,
      "outputs": [
        {
          "output_type": "execute_result",
          "data": {
            "text/plain": [
              "iso_code                            object\n",
              "continent                           object\n",
              "location                            object\n",
              "date                                object\n",
              "total_cases                        float64\n",
              "new_cases                          float64\n",
              "total_deaths                       float64\n",
              "new_deaths                         float64\n",
              "total_cases_per_million            float64\n",
              "new_cases_per_million              float64\n",
              "total_deaths_per_million           float64\n",
              "new_deaths_per_million             float64\n",
              "total_tests                        float64\n",
              "new_tests                          float64\n",
              "total_tests_per_thousand           float64\n",
              "new_tests_per_thousand             float64\n",
              "new_tests_smoothed                 float64\n",
              "new_tests_smoothed_per_thousand    float64\n",
              "tests_units                         object\n",
              "stringency_index                   float64\n",
              "population                         float64\n",
              "population_density                 float64\n",
              "median_age                         float64\n",
              "aged_65_older                      float64\n",
              "aged_70_older                      float64\n",
              "gdp_per_capita                     float64\n",
              "extreme_poverty                    float64\n",
              "cvd_death_rate                     float64\n",
              "diabetes_prevalence                float64\n",
              "female_smokers                     float64\n",
              "male_smokers                       float64\n",
              "handwashing_facilities             float64\n",
              "hospital_beds_per_thousand         float64\n",
              "life_expectancy                    float64\n",
              "dtype: object"
            ]
          },
          "metadata": {
            "tags": []
          },
          "execution_count": 49
        }
      ]
    },
    {
      "cell_type": "markdown",
      "metadata": {
        "id": "0jYCbkHcAkV-",
        "colab_type": "text"
      },
      "source": [
        "Vamos verificar o percentual de valores nulos. É importante nos atentarmos para o que é realmente valor ausente e o motivo de estarem faltando."
      ]
    },
    {
      "cell_type": "code",
      "metadata": {
        "id": "zwVSTxYA0GKx",
        "colab_type": "code",
        "colab": {
          "base_uri": "https://localhost:8080/",
          "height": 612
        },
        "outputId": "4755fae6-a9bd-4035-a7c4-f0b88e370956"
      },
      "source": [
        "# identificando percentual valores nulos\n",
        "round(df.isnull().sum() / df.shape[0], 2).sort_values(ascending=False)"
      ],
      "execution_count": null,
      "outputs": [
        {
          "output_type": "execute_result",
          "data": {
            "text/plain": [
              "new_tests_per_thousand             0.70\n",
              "new_tests                          0.70\n",
              "total_tests_per_thousand           0.69\n",
              "total_tests                        0.69\n",
              "new_tests_smoothed_per_thousand    0.67\n",
              "new_tests_smoothed                 0.67\n",
              "tests_units                        0.64\n",
              "handwashing_facilities             0.59\n",
              "extreme_poverty                    0.40\n",
              "male_smokers                       0.29\n",
              "female_smokers                     0.28\n",
              "stringency_index                   0.19\n",
              "hospital_beds_per_thousand         0.18\n",
              "gdp_per_capita                     0.11\n",
              "aged_65_older                      0.11\n",
              "cvd_death_rate                     0.10\n",
              "median_age                         0.10\n",
              "aged_70_older                      0.10\n",
              "diabetes_prevalence                0.07\n",
              "population_density                 0.04\n",
              "continent                          0.01\n",
              "new_deaths                         0.01\n",
              "total_cases                        0.01\n",
              "new_cases                          0.01\n",
              "total_deaths                       0.01\n",
              "life_expectancy                    0.01\n",
              "total_cases_per_million            0.01\n",
              "new_cases_per_million              0.01\n",
              "total_deaths_per_million           0.01\n",
              "new_deaths_per_million             0.01\n",
              "date                               0.00\n",
              "location                           0.00\n",
              "population                         0.00\n",
              "iso_code                           0.00\n",
              "dtype: float64"
            ]
          },
          "metadata": {
            "tags": []
          },
          "execution_count": 50
        }
      ]
    },
    {
      "cell_type": "markdown",
      "metadata": {
        "id": "INV4GpYLEku1",
        "colab_type": "text"
      },
      "source": [
        "Antes de Prosseguirmos, vamos transformar a coluna `date` para o formato datetime para um melhor desenvolvimento da nossa análise."
      ]
    },
    {
      "cell_type": "code",
      "metadata": {
        "id": "x-N4O6Jb2inj",
        "colab_type": "code",
        "colab": {}
      },
      "source": [
        "# transformando a coluna date em datetime\n",
        "df.date = pd.to_datetime(df.date)"
      ],
      "execution_count": null,
      "outputs": []
    },
    {
      "cell_type": "markdown",
      "metadata": {
        "id": "vsOyjC-qFGij",
        "colab_type": "text"
      },
      "source": [
        "Vamos ver onde quais os paises com os maiores números de casos confirmados e de mortes relacionadas ao covid-19"
      ]
    },
    {
      "cell_type": "code",
      "metadata": {
        "id": "LD9H-GCo3z7r",
        "colab_type": "code",
        "colab": {
          "base_uri": "https://localhost:8080/",
          "height": 357
        },
        "outputId": "c85ccb3a-23ab-44a3-9d07-09d2dcf22151"
      },
      "source": [
        "#visualizando maior número de casos por país\n",
        "df.loc[df.date == df.date.max()].sort_values(by='total_cases', ascending=False).head(6)"
      ],
      "execution_count": null,
      "outputs": [
        {
          "output_type": "execute_result",
          "data": {
            "text/html": [
              "<div>\n",
              "<style scoped>\n",
              "    .dataframe tbody tr th:only-of-type {\n",
              "        vertical-align: middle;\n",
              "    }\n",
              "\n",
              "    .dataframe tbody tr th {\n",
              "        vertical-align: top;\n",
              "    }\n",
              "\n",
              "    .dataframe thead th {\n",
              "        text-align: right;\n",
              "    }\n",
              "</style>\n",
              "<table border=\"1\" class=\"dataframe\">\n",
              "  <thead>\n",
              "    <tr style=\"text-align: right;\">\n",
              "      <th></th>\n",
              "      <th>iso_code</th>\n",
              "      <th>continent</th>\n",
              "      <th>location</th>\n",
              "      <th>date</th>\n",
              "      <th>total_cases</th>\n",
              "      <th>new_cases</th>\n",
              "      <th>total_deaths</th>\n",
              "      <th>new_deaths</th>\n",
              "      <th>total_cases_per_million</th>\n",
              "      <th>new_cases_per_million</th>\n",
              "      <th>total_deaths_per_million</th>\n",
              "      <th>new_deaths_per_million</th>\n",
              "      <th>total_tests</th>\n",
              "      <th>new_tests</th>\n",
              "      <th>total_tests_per_thousand</th>\n",
              "      <th>new_tests_per_thousand</th>\n",
              "      <th>new_tests_smoothed</th>\n",
              "      <th>new_tests_smoothed_per_thousand</th>\n",
              "      <th>tests_units</th>\n",
              "      <th>stringency_index</th>\n",
              "      <th>population</th>\n",
              "      <th>population_density</th>\n",
              "      <th>median_age</th>\n",
              "      <th>aged_65_older</th>\n",
              "      <th>aged_70_older</th>\n",
              "      <th>gdp_per_capita</th>\n",
              "      <th>extreme_poverty</th>\n",
              "      <th>cvd_death_rate</th>\n",
              "      <th>diabetes_prevalence</th>\n",
              "      <th>female_smokers</th>\n",
              "      <th>male_smokers</th>\n",
              "      <th>handwashing_facilities</th>\n",
              "      <th>hospital_beds_per_thousand</th>\n",
              "      <th>life_expectancy</th>\n",
              "    </tr>\n",
              "  </thead>\n",
              "  <tbody>\n",
              "    <tr>\n",
              "      <th>30799</th>\n",
              "      <td>OWID_WRL</td>\n",
              "      <td>NaN</td>\n",
              "      <td>World</td>\n",
              "      <td>2020-07-17</td>\n",
              "      <td>13788300.0</td>\n",
              "      <td>256314.0</td>\n",
              "      <td>589688.0</td>\n",
              "      <td>5793.0</td>\n",
              "      <td>1768.910</td>\n",
              "      <td>32.883</td>\n",
              "      <td>75.651</td>\n",
              "      <td>0.743</td>\n",
              "      <td>NaN</td>\n",
              "      <td>NaN</td>\n",
              "      <td>NaN</td>\n",
              "      <td>NaN</td>\n",
              "      <td>NaN</td>\n",
              "      <td>NaN</td>\n",
              "      <td>NaN</td>\n",
              "      <td>NaN</td>\n",
              "      <td>7.794799e+09</td>\n",
              "      <td>58.045</td>\n",
              "      <td>30.9</td>\n",
              "      <td>8.696</td>\n",
              "      <td>5.355</td>\n",
              "      <td>15469.207</td>\n",
              "      <td>10.0</td>\n",
              "      <td>233.070</td>\n",
              "      <td>8.51</td>\n",
              "      <td>6.434</td>\n",
              "      <td>34.635</td>\n",
              "      <td>60.13</td>\n",
              "      <td>2.705</td>\n",
              "      <td>72.58</td>\n",
              "    </tr>\n",
              "    <tr>\n",
              "      <th>29364</th>\n",
              "      <td>USA</td>\n",
              "      <td>North America</td>\n",
              "      <td>United States</td>\n",
              "      <td>2020-07-17</td>\n",
              "      <td>3576221.0</td>\n",
              "      <td>76930.0</td>\n",
              "      <td>138358.0</td>\n",
              "      <td>939.0</td>\n",
              "      <td>10804.207</td>\n",
              "      <td>232.415</td>\n",
              "      <td>417.997</td>\n",
              "      <td>2.837</td>\n",
              "      <td>NaN</td>\n",
              "      <td>NaN</td>\n",
              "      <td>NaN</td>\n",
              "      <td>NaN</td>\n",
              "      <td>NaN</td>\n",
              "      <td>NaN</td>\n",
              "      <td>NaN</td>\n",
              "      <td>NaN</td>\n",
              "      <td>3.310026e+08</td>\n",
              "      <td>35.608</td>\n",
              "      <td>38.3</td>\n",
              "      <td>15.413</td>\n",
              "      <td>9.732</td>\n",
              "      <td>54225.446</td>\n",
              "      <td>1.2</td>\n",
              "      <td>151.089</td>\n",
              "      <td>10.79</td>\n",
              "      <td>19.100</td>\n",
              "      <td>24.600</td>\n",
              "      <td>NaN</td>\n",
              "      <td>2.770</td>\n",
              "      <td>78.86</td>\n",
              "    </tr>\n",
              "    <tr>\n",
              "      <th>4160</th>\n",
              "      <td>BRA</td>\n",
              "      <td>South America</td>\n",
              "      <td>Brazil</td>\n",
              "      <td>2020-07-17</td>\n",
              "      <td>2012151.0</td>\n",
              "      <td>45403.0</td>\n",
              "      <td>76688.0</td>\n",
              "      <td>1322.0</td>\n",
              "      <td>9466.299</td>\n",
              "      <td>213.601</td>\n",
              "      <td>360.784</td>\n",
              "      <td>6.219</td>\n",
              "      <td>NaN</td>\n",
              "      <td>NaN</td>\n",
              "      <td>NaN</td>\n",
              "      <td>NaN</td>\n",
              "      <td>NaN</td>\n",
              "      <td>NaN</td>\n",
              "      <td>NaN</td>\n",
              "      <td>NaN</td>\n",
              "      <td>2.125594e+08</td>\n",
              "      <td>25.040</td>\n",
              "      <td>33.5</td>\n",
              "      <td>8.552</td>\n",
              "      <td>5.060</td>\n",
              "      <td>14103.452</td>\n",
              "      <td>3.4</td>\n",
              "      <td>177.961</td>\n",
              "      <td>8.11</td>\n",
              "      <td>10.100</td>\n",
              "      <td>17.900</td>\n",
              "      <td>NaN</td>\n",
              "      <td>2.200</td>\n",
              "      <td>75.88</td>\n",
              "    </tr>\n",
              "    <tr>\n",
              "      <th>13091</th>\n",
              "      <td>IND</td>\n",
              "      <td>Asia</td>\n",
              "      <td>India</td>\n",
              "      <td>2020-07-17</td>\n",
              "      <td>1003832.0</td>\n",
              "      <td>34956.0</td>\n",
              "      <td>25602.0</td>\n",
              "      <td>687.0</td>\n",
              "      <td>727.412</td>\n",
              "      <td>25.330</td>\n",
              "      <td>18.552</td>\n",
              "      <td>0.498</td>\n",
              "      <td>NaN</td>\n",
              "      <td>NaN</td>\n",
              "      <td>NaN</td>\n",
              "      <td>NaN</td>\n",
              "      <td>NaN</td>\n",
              "      <td>NaN</td>\n",
              "      <td>NaN</td>\n",
              "      <td>NaN</td>\n",
              "      <td>1.380004e+09</td>\n",
              "      <td>450.419</td>\n",
              "      <td>28.2</td>\n",
              "      <td>5.989</td>\n",
              "      <td>3.414</td>\n",
              "      <td>6426.674</td>\n",
              "      <td>21.2</td>\n",
              "      <td>282.280</td>\n",
              "      <td>10.39</td>\n",
              "      <td>1.900</td>\n",
              "      <td>20.600</td>\n",
              "      <td>59.55</td>\n",
              "      <td>0.530</td>\n",
              "      <td>69.66</td>\n",
              "    </tr>\n",
              "    <tr>\n",
              "      <th>23294</th>\n",
              "      <td>RUS</td>\n",
              "      <td>Europe</td>\n",
              "      <td>Russia</td>\n",
              "      <td>2020-07-17</td>\n",
              "      <td>752797.0</td>\n",
              "      <td>6428.0</td>\n",
              "      <td>11937.0</td>\n",
              "      <td>167.0</td>\n",
              "      <td>5158.459</td>\n",
              "      <td>44.047</td>\n",
              "      <td>81.797</td>\n",
              "      <td>1.144</td>\n",
              "      <td>NaN</td>\n",
              "      <td>NaN</td>\n",
              "      <td>NaN</td>\n",
              "      <td>NaN</td>\n",
              "      <td>NaN</td>\n",
              "      <td>NaN</td>\n",
              "      <td>NaN</td>\n",
              "      <td>NaN</td>\n",
              "      <td>1.459345e+08</td>\n",
              "      <td>8.823</td>\n",
              "      <td>39.6</td>\n",
              "      <td>14.178</td>\n",
              "      <td>9.393</td>\n",
              "      <td>24765.954</td>\n",
              "      <td>0.1</td>\n",
              "      <td>431.297</td>\n",
              "      <td>6.18</td>\n",
              "      <td>23.400</td>\n",
              "      <td>58.300</td>\n",
              "      <td>NaN</td>\n",
              "      <td>8.050</td>\n",
              "      <td>72.58</td>\n",
              "    </tr>\n",
              "    <tr>\n",
              "      <th>22118</th>\n",
              "      <td>PER</td>\n",
              "      <td>South America</td>\n",
              "      <td>Peru</td>\n",
              "      <td>2020-07-17</td>\n",
              "      <td>341586.0</td>\n",
              "      <td>3862.0</td>\n",
              "      <td>12615.0</td>\n",
              "      <td>198.0</td>\n",
              "      <td>10359.929</td>\n",
              "      <td>117.130</td>\n",
              "      <td>382.599</td>\n",
              "      <td>6.005</td>\n",
              "      <td>NaN</td>\n",
              "      <td>NaN</td>\n",
              "      <td>NaN</td>\n",
              "      <td>NaN</td>\n",
              "      <td>NaN</td>\n",
              "      <td>NaN</td>\n",
              "      <td>NaN</td>\n",
              "      <td>NaN</td>\n",
              "      <td>3.297185e+07</td>\n",
              "      <td>25.129</td>\n",
              "      <td>29.1</td>\n",
              "      <td>7.151</td>\n",
              "      <td>4.455</td>\n",
              "      <td>12236.706</td>\n",
              "      <td>3.5</td>\n",
              "      <td>85.755</td>\n",
              "      <td>5.95</td>\n",
              "      <td>4.800</td>\n",
              "      <td>NaN</td>\n",
              "      <td>NaN</td>\n",
              "      <td>1.600</td>\n",
              "      <td>76.74</td>\n",
              "    </tr>\n",
              "  </tbody>\n",
              "</table>\n",
              "</div>"
            ],
            "text/plain": [
              "       iso_code      continent  ... hospital_beds_per_thousand life_expectancy\n",
              "30799  OWID_WRL            NaN  ...                      2.705           72.58\n",
              "29364       USA  North America  ...                      2.770           78.86\n",
              "4160        BRA  South America  ...                      2.200           75.88\n",
              "13091       IND           Asia  ...                      0.530           69.66\n",
              "23294       RUS         Europe  ...                      8.050           72.58\n",
              "22118       PER  South America  ...                      1.600           76.74\n",
              "\n",
              "[6 rows x 34 columns]"
            ]
          },
          "metadata": {
            "tags": []
          },
          "execution_count": 85
        }
      ]
    },
    {
      "cell_type": "markdown",
      "metadata": {
        "id": "gsIt4Y8bFnbS",
        "colab_type": "text"
      },
      "source": [
        "Podemos verificar que os paises que lideram o ranking de casos confirmados são:\n",
        "\n",
        "* Estados Unidos - 3.576.221\n",
        "* Brasil - 2.012.151\n",
        "* Índia - 1.003.832\n",
        "\n"
      ]
    },
    {
      "cell_type": "code",
      "metadata": {
        "id": "k9OMmwRSG_An",
        "colab_type": "code",
        "colab": {
          "base_uri": "https://localhost:8080/",
          "height": 357
        },
        "outputId": "eea5cfc8-6e99-4ab7-ada3-95758819e37e"
      },
      "source": [
        "# visualizando o maior número de mortes por país    \n",
        "df.loc[df.date == df.date.max()].sort_values(by='total_deaths', ascending=False).head(6)"
      ],
      "execution_count": null,
      "outputs": [
        {
          "output_type": "execute_result",
          "data": {
            "text/html": [
              "<div>\n",
              "<style scoped>\n",
              "    .dataframe tbody tr th:only-of-type {\n",
              "        vertical-align: middle;\n",
              "    }\n",
              "\n",
              "    .dataframe tbody tr th {\n",
              "        vertical-align: top;\n",
              "    }\n",
              "\n",
              "    .dataframe thead th {\n",
              "        text-align: right;\n",
              "    }\n",
              "</style>\n",
              "<table border=\"1\" class=\"dataframe\">\n",
              "  <thead>\n",
              "    <tr style=\"text-align: right;\">\n",
              "      <th></th>\n",
              "      <th>iso_code</th>\n",
              "      <th>continent</th>\n",
              "      <th>location</th>\n",
              "      <th>date</th>\n",
              "      <th>total_cases</th>\n",
              "      <th>new_cases</th>\n",
              "      <th>total_deaths</th>\n",
              "      <th>new_deaths</th>\n",
              "      <th>total_cases_per_million</th>\n",
              "      <th>new_cases_per_million</th>\n",
              "      <th>total_deaths_per_million</th>\n",
              "      <th>new_deaths_per_million</th>\n",
              "      <th>total_tests</th>\n",
              "      <th>new_tests</th>\n",
              "      <th>total_tests_per_thousand</th>\n",
              "      <th>new_tests_per_thousand</th>\n",
              "      <th>new_tests_smoothed</th>\n",
              "      <th>new_tests_smoothed_per_thousand</th>\n",
              "      <th>tests_units</th>\n",
              "      <th>stringency_index</th>\n",
              "      <th>population</th>\n",
              "      <th>population_density</th>\n",
              "      <th>median_age</th>\n",
              "      <th>aged_65_older</th>\n",
              "      <th>aged_70_older</th>\n",
              "      <th>gdp_per_capita</th>\n",
              "      <th>extreme_poverty</th>\n",
              "      <th>cvd_death_rate</th>\n",
              "      <th>diabetes_prevalence</th>\n",
              "      <th>female_smokers</th>\n",
              "      <th>male_smokers</th>\n",
              "      <th>handwashing_facilities</th>\n",
              "      <th>hospital_beds_per_thousand</th>\n",
              "      <th>life_expectancy</th>\n",
              "    </tr>\n",
              "  </thead>\n",
              "  <tbody>\n",
              "    <tr>\n",
              "      <th>30799</th>\n",
              "      <td>OWID_WRL</td>\n",
              "      <td>NaN</td>\n",
              "      <td>World</td>\n",
              "      <td>2020-07-17</td>\n",
              "      <td>13788300.0</td>\n",
              "      <td>256314.0</td>\n",
              "      <td>589688.0</td>\n",
              "      <td>5793.0</td>\n",
              "      <td>1768.910</td>\n",
              "      <td>32.883</td>\n",
              "      <td>75.651</td>\n",
              "      <td>0.743</td>\n",
              "      <td>NaN</td>\n",
              "      <td>NaN</td>\n",
              "      <td>NaN</td>\n",
              "      <td>NaN</td>\n",
              "      <td>NaN</td>\n",
              "      <td>NaN</td>\n",
              "      <td>NaN</td>\n",
              "      <td>NaN</td>\n",
              "      <td>7.794799e+09</td>\n",
              "      <td>58.045</td>\n",
              "      <td>30.9</td>\n",
              "      <td>8.696</td>\n",
              "      <td>5.355</td>\n",
              "      <td>15469.207</td>\n",
              "      <td>10.0</td>\n",
              "      <td>233.070</td>\n",
              "      <td>8.51</td>\n",
              "      <td>6.434</td>\n",
              "      <td>34.635</td>\n",
              "      <td>60.130</td>\n",
              "      <td>2.705</td>\n",
              "      <td>72.58</td>\n",
              "    </tr>\n",
              "    <tr>\n",
              "      <th>29364</th>\n",
              "      <td>USA</td>\n",
              "      <td>North America</td>\n",
              "      <td>United States</td>\n",
              "      <td>2020-07-17</td>\n",
              "      <td>3576221.0</td>\n",
              "      <td>76930.0</td>\n",
              "      <td>138358.0</td>\n",
              "      <td>939.0</td>\n",
              "      <td>10804.207</td>\n",
              "      <td>232.415</td>\n",
              "      <td>417.997</td>\n",
              "      <td>2.837</td>\n",
              "      <td>NaN</td>\n",
              "      <td>NaN</td>\n",
              "      <td>NaN</td>\n",
              "      <td>NaN</td>\n",
              "      <td>NaN</td>\n",
              "      <td>NaN</td>\n",
              "      <td>NaN</td>\n",
              "      <td>NaN</td>\n",
              "      <td>3.310026e+08</td>\n",
              "      <td>35.608</td>\n",
              "      <td>38.3</td>\n",
              "      <td>15.413</td>\n",
              "      <td>9.732</td>\n",
              "      <td>54225.446</td>\n",
              "      <td>1.2</td>\n",
              "      <td>151.089</td>\n",
              "      <td>10.79</td>\n",
              "      <td>19.100</td>\n",
              "      <td>24.600</td>\n",
              "      <td>NaN</td>\n",
              "      <td>2.770</td>\n",
              "      <td>78.86</td>\n",
              "    </tr>\n",
              "    <tr>\n",
              "      <th>4160</th>\n",
              "      <td>BRA</td>\n",
              "      <td>South America</td>\n",
              "      <td>Brazil</td>\n",
              "      <td>2020-07-17</td>\n",
              "      <td>2012151.0</td>\n",
              "      <td>45403.0</td>\n",
              "      <td>76688.0</td>\n",
              "      <td>1322.0</td>\n",
              "      <td>9466.299</td>\n",
              "      <td>213.601</td>\n",
              "      <td>360.784</td>\n",
              "      <td>6.219</td>\n",
              "      <td>NaN</td>\n",
              "      <td>NaN</td>\n",
              "      <td>NaN</td>\n",
              "      <td>NaN</td>\n",
              "      <td>NaN</td>\n",
              "      <td>NaN</td>\n",
              "      <td>NaN</td>\n",
              "      <td>NaN</td>\n",
              "      <td>2.125594e+08</td>\n",
              "      <td>25.040</td>\n",
              "      <td>33.5</td>\n",
              "      <td>8.552</td>\n",
              "      <td>5.060</td>\n",
              "      <td>14103.452</td>\n",
              "      <td>3.4</td>\n",
              "      <td>177.961</td>\n",
              "      <td>8.11</td>\n",
              "      <td>10.100</td>\n",
              "      <td>17.900</td>\n",
              "      <td>NaN</td>\n",
              "      <td>2.200</td>\n",
              "      <td>75.88</td>\n",
              "    </tr>\n",
              "    <tr>\n",
              "      <th>29164</th>\n",
              "      <td>GBR</td>\n",
              "      <td>Europe</td>\n",
              "      <td>United Kingdom</td>\n",
              "      <td>2020-07-17</td>\n",
              "      <td>292552.0</td>\n",
              "      <td>641.0</td>\n",
              "      <td>45119.0</td>\n",
              "      <td>66.0</td>\n",
              "      <td>4309.460</td>\n",
              "      <td>9.442</td>\n",
              "      <td>664.629</td>\n",
              "      <td>0.972</td>\n",
              "      <td>NaN</td>\n",
              "      <td>NaN</td>\n",
              "      <td>NaN</td>\n",
              "      <td>NaN</td>\n",
              "      <td>NaN</td>\n",
              "      <td>NaN</td>\n",
              "      <td>NaN</td>\n",
              "      <td>NaN</td>\n",
              "      <td>6.788600e+07</td>\n",
              "      <td>272.898</td>\n",
              "      <td>40.8</td>\n",
              "      <td>18.517</td>\n",
              "      <td>12.527</td>\n",
              "      <td>39753.244</td>\n",
              "      <td>0.2</td>\n",
              "      <td>122.137</td>\n",
              "      <td>4.28</td>\n",
              "      <td>20.000</td>\n",
              "      <td>24.700</td>\n",
              "      <td>NaN</td>\n",
              "      <td>2.540</td>\n",
              "      <td>81.32</td>\n",
              "    </tr>\n",
              "    <tr>\n",
              "      <th>18421</th>\n",
              "      <td>MEX</td>\n",
              "      <td>North America</td>\n",
              "      <td>Mexico</td>\n",
              "      <td>2020-07-17</td>\n",
              "      <td>324041.0</td>\n",
              "      <td>6406.0</td>\n",
              "      <td>37574.0</td>\n",
              "      <td>668.0</td>\n",
              "      <td>2513.256</td>\n",
              "      <td>49.685</td>\n",
              "      <td>291.423</td>\n",
              "      <td>5.181</td>\n",
              "      <td>NaN</td>\n",
              "      <td>NaN</td>\n",
              "      <td>NaN</td>\n",
              "      <td>NaN</td>\n",
              "      <td>NaN</td>\n",
              "      <td>NaN</td>\n",
              "      <td>NaN</td>\n",
              "      <td>NaN</td>\n",
              "      <td>1.289328e+08</td>\n",
              "      <td>66.444</td>\n",
              "      <td>29.3</td>\n",
              "      <td>6.857</td>\n",
              "      <td>4.321</td>\n",
              "      <td>17336.469</td>\n",
              "      <td>2.5</td>\n",
              "      <td>152.783</td>\n",
              "      <td>13.06</td>\n",
              "      <td>6.900</td>\n",
              "      <td>21.400</td>\n",
              "      <td>87.847</td>\n",
              "      <td>1.380</td>\n",
              "      <td>75.05</td>\n",
              "    </tr>\n",
              "    <tr>\n",
              "      <th>14399</th>\n",
              "      <td>ITA</td>\n",
              "      <td>Europe</td>\n",
              "      <td>Italy</td>\n",
              "      <td>2020-07-17</td>\n",
              "      <td>243736.0</td>\n",
              "      <td>230.0</td>\n",
              "      <td>35017.0</td>\n",
              "      <td>20.0</td>\n",
              "      <td>4031.238</td>\n",
              "      <td>3.804</td>\n",
              "      <td>579.159</td>\n",
              "      <td>0.331</td>\n",
              "      <td>NaN</td>\n",
              "      <td>NaN</td>\n",
              "      <td>NaN</td>\n",
              "      <td>NaN</td>\n",
              "      <td>NaN</td>\n",
              "      <td>NaN</td>\n",
              "      <td>NaN</td>\n",
              "      <td>NaN</td>\n",
              "      <td>6.046183e+07</td>\n",
              "      <td>205.859</td>\n",
              "      <td>47.9</td>\n",
              "      <td>23.021</td>\n",
              "      <td>16.240</td>\n",
              "      <td>35220.084</td>\n",
              "      <td>2.0</td>\n",
              "      <td>113.151</td>\n",
              "      <td>4.78</td>\n",
              "      <td>19.800</td>\n",
              "      <td>27.800</td>\n",
              "      <td>NaN</td>\n",
              "      <td>3.180</td>\n",
              "      <td>83.51</td>\n",
              "    </tr>\n",
              "  </tbody>\n",
              "</table>\n",
              "</div>"
            ],
            "text/plain": [
              "       iso_code      continent  ... hospital_beds_per_thousand life_expectancy\n",
              "30799  OWID_WRL            NaN  ...                      2.705           72.58\n",
              "29364       USA  North America  ...                      2.770           78.86\n",
              "4160        BRA  South America  ...                      2.200           75.88\n",
              "29164       GBR         Europe  ...                      2.540           81.32\n",
              "18421       MEX  North America  ...                      1.380           75.05\n",
              "14399       ITA         Europe  ...                      3.180           83.51\n",
              "\n",
              "[6 rows x 34 columns]"
            ]
          },
          "metadata": {
            "tags": []
          },
          "execution_count": 53
        }
      ]
    },
    {
      "cell_type": "markdown",
      "metadata": {
        "id": "EPpI2icGINVo",
        "colab_type": "text"
      },
      "source": [
        "Os lideres em números de morte são:\n",
        "\n",
        "* Estados Unidos - 138.358\n",
        "* Brasil - 76.930\n",
        "* Reino Unido - 45.119\n",
        "\n",
        "Para melhor visualizarmos vamos plotar um gráfico."
      ]
    },
    {
      "cell_type": "code",
      "metadata": {
        "id": "tam4_dSFQEcq",
        "colab_type": "code",
        "colab": {
          "base_uri": "https://localhost:8080/",
          "height": 503
        },
        "outputId": "39013678-98d3-4fd3-d63b-814ccc28e640"
      },
      "source": [
        "# coletando os dados para o gráfico\n",
        "top_5_total_cases = df.loc[df.date == df.date.max(), ['location', 'total_cases']].sort_values(by='total_cases', ascending=False)[1:6]\n",
        "\n",
        "# plotando gráfico de casos confirmados\n",
        "fig, ax = plt.subplots(figsize=(15, 8))\n",
        "rects = ax.bar('location', 'total_cases', data=top_5_total_cases, color= sns.light_palette((210, 90, 60), input=\"husl\", reverse=True))\n",
        "\n",
        "top5 = list(top_5_total_cases.iloc[:5,1])\n",
        "ax.tick_params(top=False, bottom=False, right=False, left=False, labelleft=False, labelbottom=True, direction='out')\n",
        "\n",
        "for rect in rects:\n",
        "        height = rect.get_height()\n",
        "        ax.annotate(f'{int(height)}',\n",
        "                    xy=(rect.get_x() + rect.get_width() / 2, height),\n",
        "                    xytext=(0, 3),  # 3 points vertical offset\n",
        "                    textcoords=\"offset points\",\n",
        "                    ha='center', va='bottom',\n",
        "                    color='gray', fontsize=12)\n",
        "\n",
        "sns.set_style('whitegrid')\n",
        "sns.despine(left=True)\n",
        "plt.grid(False)\n",
        "plt.title('Top 5 Países por casos confirmados', fontsize=14)\n",
        "plt.show()"
      ],
      "execution_count": null,
      "outputs": [
        {
          "output_type": "display_data",
          "data": {
            "image/png": "[encoded data removed]",
            "text/plain": [
              "<Figure size 1080x576 with 1 Axes>"
            ]
          },
          "metadata": {
            "tags": []
          }
        }
      ]
    },
    {
      "cell_type": "markdown",
      "metadata": {
        "id": "Wa9rOqRZuccf",
        "colab_type": "text"
      },
      "source": [
        "### Top 5 países por Mortes"
      ]
    },
    {
      "cell_type": "code",
      "metadata": {
        "id": "6gpnMPkBuinj",
        "colab_type": "code",
        "colab": {
          "base_uri": "https://localhost:8080/",
          "height": 503
        },
        "outputId": "8b995a8f-407c-436b-c08a-910dfb8248a2"
      },
      "source": [
        "# coletando dados para o gráfico de mortes\n",
        "top_5_total_deaths = df.loc[df.date == df.date.max(), ['location', 'total_deaths']].sort_values(by=\"total_deaths\", ascending=False)[1:6]\n",
        "\n",
        "# plotando gráfico de casos confirmados\n",
        "fig, ax = plt.subplots(figsize=(15, 8))\n",
        "rects = ax.bar('location', 'total_deaths', data=top_5_total_deaths, color= sns.light_palette('blood red', input=\"xkcd\", reverse=True))\n",
        "\n",
        "top5 = list(top_5_total_deaths.iloc[:5,1])\n",
        "ax.tick_params(top=False, bottom=False, right=False, left=False, labelleft=False, labelbottom=True, direction='out')\n",
        "\n",
        "for rect in rects:\n",
        "        height = rect.get_height()\n",
        "        ax.annotate(f'{int(height)}',\n",
        "                    xy=(rect.get_x() + rect.get_width() / 2, height),\n",
        "                    xytext=(0, 3),  # 3 points vertical offset\n",
        "                    textcoords=\"offset points\",\n",
        "                    ha='center', va='bottom',\n",
        "                    color='gray', fontsize=12)\n",
        "\n",
        "sns.set_style('whitegrid')\n",
        "sns.despine(left=True)\n",
        "plt.grid(False)\n",
        "plt.title('Top 5 Países por mortes', fontsize=14)\n",
        "plt.show()\n"
      ],
      "execution_count": null,
      "outputs": [
        {
          "output_type": "display_data",
          "data": {
            "image/png": "[encoded data removed]",
            "text/plain": [
              "<Figure size 1080x576 with 1 Axes>"
            ]
          },
          "metadata": {
            "tags": []
          }
        }
      ]
    },
    {
      "cell_type": "markdown",
      "metadata": {
        "id": "QBwfE_Z0sjJf",
        "colab_type": "text"
      },
      "source": [
        "##Progressão da Covid no mundo\n",
        "O aumento no número de casos faz com que os números de mortes relacionadas a doença também cresçam.\n",
        "\n",
        "Vamos plotar um gráfico de linhas para acompanharmos a evolução dos números de mortes no mundo."
      ]
    },
    {
      "cell_type": "code",
      "metadata": {
        "id": "Dybf42HV152s",
        "colab_type": "code",
        "colab": {
          "base_uri": "https://localhost:8080/",
          "height": 519
        },
        "outputId": "de711cf8-6330-43ee-9c2a-cea29585383b"
      },
      "source": [
        "# gráficos de casos ao longo do tempo\n",
        "casos_mundo = df.loc[df.location == \"World\", \"total_cases\"].reset_index(drop=True)\n",
        "\n",
        "fig, ax = plt.subplots(figsize=(12, 8))\n",
        "ax.tick_params(top=False, bottom=False, right=False, left=False, labelleft=False, labelbottom=True, direction='out')\n",
        "ax.plot(casos_mundo, color='#12e193')\n",
        "ax.text(x=casos_mundo.index.max(), y=casos_mundo.values.max(),s= f\"13.788.300\\ncasos\",\n",
        "        fontsize=12)\n",
        "sns.set_style('whitegrid')\n",
        "sns.despine()\n",
        "plt.grid(False)\n",
        "\n",
        "\n",
        "# gráficos de mortes ao longo do tempo\n",
        "mortes_mundo = df.loc[df.location == \"World\", \"total_deaths\"].reset_index(drop=True)\n",
        "ax.tick_params(top=False, bottom=False, right=False, left=False, labelleft=False, labelbottom=True, direction='out')\n",
        "ax.plot(mortes_mundo, color='#980002')\n",
        "ax.text(x=mortes_mundo.index.max(), y=mortes_mundo.values.max(),s= \"589.688\\nmortes\",\n",
        "        fontsize=12)\n",
        "sns.set_style('whitegrid')\n",
        "sns.despine()\n",
        "plt.xlabel('Dias')\n",
        "plt.title('Progresso da Covid no Mundo', fontsize=14)\n",
        "plt.grid(False)\n",
        "plt.show()"
      ],
      "execution_count": null,
      "outputs": [
        {
          "output_type": "display_data",
          "data": {
            "image/png": "[encoded data removed]",
            "text/plain": [
              "<Figure size 864x576 with 1 Axes>"
            ]
          },
          "metadata": {
            "tags": []
          }
        }
      ]
    },
    {
      "cell_type": "code",
      "metadata": {
        "id": "PC56zwFuI5Ls",
        "colab_type": "code",
        "colab": {
          "base_uri": "https://localhost:8080/",
          "height": 34
        },
        "outputId": "5b8a0393-f65d-427e-f8c4-41e719f95c9d"
      },
      "source": [
        "mortes_mundo.max() / casos_mundo.max() * 100"
      ],
      "execution_count": null,
      "outputs": [
        {
          "output_type": "execute_result",
          "data": {
            "text/plain": [
              "4.276727370306709"
            ]
          },
          "metadata": {
            "tags": []
          },
          "execution_count": 202
        }
      ]
    },
    {
      "cell_type": "markdown",
      "metadata": {
        "id": "uw-uVMDdhRQb",
        "colab_type": "text"
      },
      "source": [
        "##Análise do Covid-19 no Brasil\n",
        "\n",
        "Agora que temos uma visão geral da doença no mundo, vamos analisar a situação no território brasileiro."
      ]
    },
    {
      "cell_type": "code",
      "metadata": {
        "id": "yogqc5EPwpyB",
        "colab_type": "code",
        "colab": {
          "base_uri": "https://localhost:8080/",
          "height": 309
        },
        "outputId": "16b9730e-4b3b-42ed-ac4f-a6c24520a8de"
      },
      "source": [
        "# criando um novo DataFrame com informações do Brasil\n",
        "df_brasil = df.loc[df.location == 'Brazil'].copy()\n",
        "\n",
        "# verificando as 5 primeiras entradas\n",
        "df_brasil.head()"
      ],
      "execution_count": null,
      "outputs": [
        {
          "output_type": "execute_result",
          "data": {
            "text/html": [
              "<div>\n",
              "<style scoped>\n",
              "    .dataframe tbody tr th:only-of-type {\n",
              "        vertical-align: middle;\n",
              "    }\n",
              "\n",
              "    .dataframe tbody tr th {\n",
              "        vertical-align: top;\n",
              "    }\n",
              "\n",
              "    .dataframe thead th {\n",
              "        text-align: right;\n",
              "    }\n",
              "</style>\n",
              "<table border=\"1\" class=\"dataframe\">\n",
              "  <thead>\n",
              "    <tr style=\"text-align: right;\">\n",
              "      <th></th>\n",
              "      <th>iso_code</th>\n",
              "      <th>continent</th>\n",
              "      <th>location</th>\n",
              "      <th>date</th>\n",
              "      <th>total_cases</th>\n",
              "      <th>new_cases</th>\n",
              "      <th>total_deaths</th>\n",
              "      <th>new_deaths</th>\n",
              "      <th>total_cases_per_million</th>\n",
              "      <th>new_cases_per_million</th>\n",
              "      <th>total_deaths_per_million</th>\n",
              "      <th>new_deaths_per_million</th>\n",
              "      <th>total_tests</th>\n",
              "      <th>new_tests</th>\n",
              "      <th>total_tests_per_thousand</th>\n",
              "      <th>new_tests_per_thousand</th>\n",
              "      <th>new_tests_smoothed</th>\n",
              "      <th>new_tests_smoothed_per_thousand</th>\n",
              "      <th>tests_units</th>\n",
              "      <th>stringency_index</th>\n",
              "      <th>population</th>\n",
              "      <th>population_density</th>\n",
              "      <th>median_age</th>\n",
              "      <th>aged_65_older</th>\n",
              "      <th>aged_70_older</th>\n",
              "      <th>gdp_per_capita</th>\n",
              "      <th>extreme_poverty</th>\n",
              "      <th>cvd_death_rate</th>\n",
              "      <th>diabetes_prevalence</th>\n",
              "      <th>female_smokers</th>\n",
              "      <th>male_smokers</th>\n",
              "      <th>handwashing_facilities</th>\n",
              "      <th>hospital_beds_per_thousand</th>\n",
              "      <th>life_expectancy</th>\n",
              "    </tr>\n",
              "  </thead>\n",
              "  <tbody>\n",
              "    <tr>\n",
              "      <th>3961</th>\n",
              "      <td>BRA</td>\n",
              "      <td>South America</td>\n",
              "      <td>Brazil</td>\n",
              "      <td>2019-12-31</td>\n",
              "      <td>0.0</td>\n",
              "      <td>0.0</td>\n",
              "      <td>0.0</td>\n",
              "      <td>0.0</td>\n",
              "      <td>0.0</td>\n",
              "      <td>0.0</td>\n",
              "      <td>0.0</td>\n",
              "      <td>0.0</td>\n",
              "      <td>NaN</td>\n",
              "      <td>NaN</td>\n",
              "      <td>NaN</td>\n",
              "      <td>NaN</td>\n",
              "      <td>NaN</td>\n",
              "      <td>NaN</td>\n",
              "      <td>NaN</td>\n",
              "      <td>NaN</td>\n",
              "      <td>212559409.0</td>\n",
              "      <td>25.04</td>\n",
              "      <td>33.5</td>\n",
              "      <td>8.552</td>\n",
              "      <td>5.06</td>\n",
              "      <td>14103.452</td>\n",
              "      <td>3.4</td>\n",
              "      <td>177.961</td>\n",
              "      <td>8.11</td>\n",
              "      <td>10.1</td>\n",
              "      <td>17.9</td>\n",
              "      <td>NaN</td>\n",
              "      <td>2.2</td>\n",
              "      <td>75.88</td>\n",
              "    </tr>\n",
              "    <tr>\n",
              "      <th>3962</th>\n",
              "      <td>BRA</td>\n",
              "      <td>South America</td>\n",
              "      <td>Brazil</td>\n",
              "      <td>2020-01-01</td>\n",
              "      <td>0.0</td>\n",
              "      <td>0.0</td>\n",
              "      <td>0.0</td>\n",
              "      <td>0.0</td>\n",
              "      <td>0.0</td>\n",
              "      <td>0.0</td>\n",
              "      <td>0.0</td>\n",
              "      <td>0.0</td>\n",
              "      <td>NaN</td>\n",
              "      <td>NaN</td>\n",
              "      <td>NaN</td>\n",
              "      <td>NaN</td>\n",
              "      <td>NaN</td>\n",
              "      <td>NaN</td>\n",
              "      <td>NaN</td>\n",
              "      <td>0.0</td>\n",
              "      <td>212559409.0</td>\n",
              "      <td>25.04</td>\n",
              "      <td>33.5</td>\n",
              "      <td>8.552</td>\n",
              "      <td>5.06</td>\n",
              "      <td>14103.452</td>\n",
              "      <td>3.4</td>\n",
              "      <td>177.961</td>\n",
              "      <td>8.11</td>\n",
              "      <td>10.1</td>\n",
              "      <td>17.9</td>\n",
              "      <td>NaN</td>\n",
              "      <td>2.2</td>\n",
              "      <td>75.88</td>\n",
              "    </tr>\n",
              "    <tr>\n",
              "      <th>3963</th>\n",
              "      <td>BRA</td>\n",
              "      <td>South America</td>\n",
              "      <td>Brazil</td>\n",
              "      <td>2020-01-02</td>\n",
              "      <td>0.0</td>\n",
              "      <td>0.0</td>\n",
              "      <td>0.0</td>\n",
              "      <td>0.0</td>\n",
              "      <td>0.0</td>\n",
              "      <td>0.0</td>\n",
              "      <td>0.0</td>\n",
              "      <td>0.0</td>\n",
              "      <td>NaN</td>\n",
              "      <td>NaN</td>\n",
              "      <td>NaN</td>\n",
              "      <td>NaN</td>\n",
              "      <td>NaN</td>\n",
              "      <td>NaN</td>\n",
              "      <td>NaN</td>\n",
              "      <td>0.0</td>\n",
              "      <td>212559409.0</td>\n",
              "      <td>25.04</td>\n",
              "      <td>33.5</td>\n",
              "      <td>8.552</td>\n",
              "      <td>5.06</td>\n",
              "      <td>14103.452</td>\n",
              "      <td>3.4</td>\n",
              "      <td>177.961</td>\n",
              "      <td>8.11</td>\n",
              "      <td>10.1</td>\n",
              "      <td>17.9</td>\n",
              "      <td>NaN</td>\n",
              "      <td>2.2</td>\n",
              "      <td>75.88</td>\n",
              "    </tr>\n",
              "    <tr>\n",
              "      <th>3964</th>\n",
              "      <td>BRA</td>\n",
              "      <td>South America</td>\n",
              "      <td>Brazil</td>\n",
              "      <td>2020-01-03</td>\n",
              "      <td>0.0</td>\n",
              "      <td>0.0</td>\n",
              "      <td>0.0</td>\n",
              "      <td>0.0</td>\n",
              "      <td>0.0</td>\n",
              "      <td>0.0</td>\n",
              "      <td>0.0</td>\n",
              "      <td>0.0</td>\n",
              "      <td>NaN</td>\n",
              "      <td>NaN</td>\n",
              "      <td>NaN</td>\n",
              "      <td>NaN</td>\n",
              "      <td>NaN</td>\n",
              "      <td>NaN</td>\n",
              "      <td>NaN</td>\n",
              "      <td>0.0</td>\n",
              "      <td>212559409.0</td>\n",
              "      <td>25.04</td>\n",
              "      <td>33.5</td>\n",
              "      <td>8.552</td>\n",
              "      <td>5.06</td>\n",
              "      <td>14103.452</td>\n",
              "      <td>3.4</td>\n",
              "      <td>177.961</td>\n",
              "      <td>8.11</td>\n",
              "      <td>10.1</td>\n",
              "      <td>17.9</td>\n",
              "      <td>NaN</td>\n",
              "      <td>2.2</td>\n",
              "      <td>75.88</td>\n",
              "    </tr>\n",
              "    <tr>\n",
              "      <th>3965</th>\n",
              "      <td>BRA</td>\n",
              "      <td>South America</td>\n",
              "      <td>Brazil</td>\n",
              "      <td>2020-01-04</td>\n",
              "      <td>0.0</td>\n",
              "      <td>0.0</td>\n",
              "      <td>0.0</td>\n",
              "      <td>0.0</td>\n",
              "      <td>0.0</td>\n",
              "      <td>0.0</td>\n",
              "      <td>0.0</td>\n",
              "      <td>0.0</td>\n",
              "      <td>NaN</td>\n",
              "      <td>NaN</td>\n",
              "      <td>NaN</td>\n",
              "      <td>NaN</td>\n",
              "      <td>NaN</td>\n",
              "      <td>NaN</td>\n",
              "      <td>NaN</td>\n",
              "      <td>0.0</td>\n",
              "      <td>212559409.0</td>\n",
              "      <td>25.04</td>\n",
              "      <td>33.5</td>\n",
              "      <td>8.552</td>\n",
              "      <td>5.06</td>\n",
              "      <td>14103.452</td>\n",
              "      <td>3.4</td>\n",
              "      <td>177.961</td>\n",
              "      <td>8.11</td>\n",
              "      <td>10.1</td>\n",
              "      <td>17.9</td>\n",
              "      <td>NaN</td>\n",
              "      <td>2.2</td>\n",
              "      <td>75.88</td>\n",
              "    </tr>\n",
              "  </tbody>\n",
              "</table>\n",
              "</div>"
            ],
            "text/plain": [
              "     iso_code      continent  ... hospital_beds_per_thousand life_expectancy\n",
              "3961      BRA  South America  ...                        2.2           75.88\n",
              "3962      BRA  South America  ...                        2.2           75.88\n",
              "3963      BRA  South America  ...                        2.2           75.88\n",
              "3964      BRA  South America  ...                        2.2           75.88\n",
              "3965      BRA  South America  ...                        2.2           75.88\n",
              "\n",
              "[5 rows x 34 columns]"
            ]
          },
          "metadata": {
            "tags": []
          },
          "execution_count": 58
        }
      ]
    },
    {
      "cell_type": "markdown",
      "metadata": {
        "id": "fSDI6mgjnGrz",
        "colab_type": "text"
      },
      "source": [
        "Podemos ver que os resgistros de casos no mundo se iniciam ainda em **2019** no dia 31 de dezembro e se estendem até o dia em que está análise está sendo realizada 09 de julho de 2020."
      ]
    },
    {
      "cell_type": "code",
      "metadata": {
        "id": "1_fF8FdmlRHL",
        "colab_type": "code",
        "colab": {
          "base_uri": "https://localhost:8080/",
          "height": 35
        },
        "outputId": "76aed789-50d0-487e-e5a2-54ce456dc8e5"
      },
      "source": [
        "f'Primeiro registro: ({df_brasil.date.max()}), Registro Mais Recente: ({df_brasil.date.min()})'"
      ],
      "execution_count": null,
      "outputs": [
        {
          "output_type": "execute_result",
          "data": {
            "application/vnd.google.colaboratory.intrinsic": {
              "type": "string"
            },
            "text/plain": [
              "'Primeiro registro: (2020-07-17 00:00:00), Registro Mais Recente: (2019-12-31 00:00:00)'"
            ]
          },
          "metadata": {
            "tags": []
          },
          "execution_count": 59
        }
      ]
    },
    {
      "cell_type": "markdown",
      "metadata": {
        "id": "yBOioJ6xn9BX",
        "colab_type": "text"
      },
      "source": [
        "Com esses dados, podemos comparar o tempo que levou até o Brasil registrar o primeiro caso e a primeira morte."
      ]
    },
    {
      "cell_type": "code",
      "metadata": {
        "id": "XZt30VECoKL0",
        "colab_type": "code",
        "colab": {
          "base_uri": "https://localhost:8080/",
          "height": 117
        },
        "outputId": "6646726d-f349-4401-a89f-606c84260c77"
      },
      "source": [
        "# primeiro caso no Brasil\n",
        "caso1 = pd.to_numeric(df_brasil.loc[df_brasil['total_cases'] == 1].index)\n",
        "\n",
        "# localizando primeiro caso no Brasil\n",
        "df_brasil.loc[df_brasil['total_cases'] == 1].head(1)"
      ],
      "execution_count": null,
      "outputs": [
        {
          "output_type": "execute_result",
          "data": {
            "text/html": [
              "<div>\n",
              "<style scoped>\n",
              "    .dataframe tbody tr th:only-of-type {\n",
              "        vertical-align: middle;\n",
              "    }\n",
              "\n",
              "    .dataframe tbody tr th {\n",
              "        vertical-align: top;\n",
              "    }\n",
              "\n",
              "    .dataframe thead th {\n",
              "        text-align: right;\n",
              "    }\n",
              "</style>\n",
              "<table border=\"1\" class=\"dataframe\">\n",
              "  <thead>\n",
              "    <tr style=\"text-align: right;\">\n",
              "      <th></th>\n",
              "      <th>iso_code</th>\n",
              "      <th>continent</th>\n",
              "      <th>location</th>\n",
              "      <th>date</th>\n",
              "      <th>total_cases</th>\n",
              "      <th>new_cases</th>\n",
              "      <th>total_deaths</th>\n",
              "      <th>new_deaths</th>\n",
              "      <th>total_cases_per_million</th>\n",
              "      <th>new_cases_per_million</th>\n",
              "      <th>total_deaths_per_million</th>\n",
              "      <th>new_deaths_per_million</th>\n",
              "      <th>total_tests</th>\n",
              "      <th>new_tests</th>\n",
              "      <th>total_tests_per_thousand</th>\n",
              "      <th>new_tests_per_thousand</th>\n",
              "      <th>new_tests_smoothed</th>\n",
              "      <th>new_tests_smoothed_per_thousand</th>\n",
              "      <th>tests_units</th>\n",
              "      <th>stringency_index</th>\n",
              "      <th>population</th>\n",
              "      <th>population_density</th>\n",
              "      <th>median_age</th>\n",
              "      <th>aged_65_older</th>\n",
              "      <th>aged_70_older</th>\n",
              "      <th>gdp_per_capita</th>\n",
              "      <th>extreme_poverty</th>\n",
              "      <th>cvd_death_rate</th>\n",
              "      <th>diabetes_prevalence</th>\n",
              "      <th>female_smokers</th>\n",
              "      <th>male_smokers</th>\n",
              "      <th>handwashing_facilities</th>\n",
              "      <th>hospital_beds_per_thousand</th>\n",
              "      <th>life_expectancy</th>\n",
              "    </tr>\n",
              "  </thead>\n",
              "  <tbody>\n",
              "    <tr>\n",
              "      <th>4018</th>\n",
              "      <td>BRA</td>\n",
              "      <td>South America</td>\n",
              "      <td>Brazil</td>\n",
              "      <td>2020-02-26</td>\n",
              "      <td>1.0</td>\n",
              "      <td>1.0</td>\n",
              "      <td>0.0</td>\n",
              "      <td>0.0</td>\n",
              "      <td>0.005</td>\n",
              "      <td>0.005</td>\n",
              "      <td>0.0</td>\n",
              "      <td>0.0</td>\n",
              "      <td>NaN</td>\n",
              "      <td>NaN</td>\n",
              "      <td>NaN</td>\n",
              "      <td>NaN</td>\n",
              "      <td>NaN</td>\n",
              "      <td>NaN</td>\n",
              "      <td>NaN</td>\n",
              "      <td>5.56</td>\n",
              "      <td>212559409.0</td>\n",
              "      <td>25.04</td>\n",
              "      <td>33.5</td>\n",
              "      <td>8.552</td>\n",
              "      <td>5.06</td>\n",
              "      <td>14103.452</td>\n",
              "      <td>3.4</td>\n",
              "      <td>177.961</td>\n",
              "      <td>8.11</td>\n",
              "      <td>10.1</td>\n",
              "      <td>17.9</td>\n",
              "      <td>NaN</td>\n",
              "      <td>2.2</td>\n",
              "      <td>75.88</td>\n",
              "    </tr>\n",
              "  </tbody>\n",
              "</table>\n",
              "</div>"
            ],
            "text/plain": [
              "     iso_code      continent  ... hospital_beds_per_thousand life_expectancy\n",
              "4018      BRA  South America  ...                        2.2           75.88\n",
              "\n",
              "[1 rows x 34 columns]"
            ]
          },
          "metadata": {
            "tags": []
          },
          "execution_count": 60
        }
      ]
    },
    {
      "cell_type": "code",
      "metadata": {
        "id": "CtjnGahFzRg_",
        "colab_type": "code",
        "colab": {
          "base_uri": "https://localhost:8080/",
          "height": 35
        },
        "outputId": "4a67f933-5ce4-4426-a5f5-ca335b2f98c1"
      },
      "source": [
        "# tempo entre o primeiro caso no mundo e no Brasil\n",
        "f' Passaram-se {(df_brasil.date.loc[4018] - df.date.min()).days} dias até o primeiro registro no Brasil.'"
      ],
      "execution_count": null,
      "outputs": [
        {
          "output_type": "execute_result",
          "data": {
            "application/vnd.google.colaboratory.intrinsic": {
              "type": "string"
            },
            "text/plain": [
              "' Passaram-se 57 dias até o primeiro registro no Brasil.'"
            ]
          },
          "metadata": {
            "tags": []
          },
          "execution_count": 61
        }
      ]
    },
    {
      "cell_type": "markdown",
      "metadata": {
        "id": "JA2bhyjI2rn7",
        "colab_type": "text"
      },
      "source": [
        "Após **57 dias** do primeiro registro mundial, tivemos o primeiro caso confirmado no Brasil."
      ]
    },
    {
      "cell_type": "code",
      "metadata": {
        "id": "at5PZTuDvjtO",
        "colab_type": "code",
        "colab": {
          "base_uri": "https://localhost:8080/",
          "height": 117
        },
        "outputId": "107b4004-4b8d-4d2d-e086-379f44e512ee"
      },
      "source": [
        "# primeira morte no Brasil\n",
        "morte1 = pd.to_numeric(df_brasil.loc[df_brasil['total_deaths'] == 1].index)\n",
        "# localizando primeira morte no Brasil\n",
        "df_brasil.loc[df_brasil['total_deaths'] == 1].head(1)"
      ],
      "execution_count": null,
      "outputs": [
        {
          "output_type": "execute_result",
          "data": {
            "text/html": [
              "<div>\n",
              "<style scoped>\n",
              "    .dataframe tbody tr th:only-of-type {\n",
              "        vertical-align: middle;\n",
              "    }\n",
              "\n",
              "    .dataframe tbody tr th {\n",
              "        vertical-align: top;\n",
              "    }\n",
              "\n",
              "    .dataframe thead th {\n",
              "        text-align: right;\n",
              "    }\n",
              "</style>\n",
              "<table border=\"1\" class=\"dataframe\">\n",
              "  <thead>\n",
              "    <tr style=\"text-align: right;\">\n",
              "      <th></th>\n",
              "      <th>iso_code</th>\n",
              "      <th>continent</th>\n",
              "      <th>location</th>\n",
              "      <th>date</th>\n",
              "      <th>total_cases</th>\n",
              "      <th>new_cases</th>\n",
              "      <th>total_deaths</th>\n",
              "      <th>new_deaths</th>\n",
              "      <th>total_cases_per_million</th>\n",
              "      <th>new_cases_per_million</th>\n",
              "      <th>total_deaths_per_million</th>\n",
              "      <th>new_deaths_per_million</th>\n",
              "      <th>total_tests</th>\n",
              "      <th>new_tests</th>\n",
              "      <th>total_tests_per_thousand</th>\n",
              "      <th>new_tests_per_thousand</th>\n",
              "      <th>new_tests_smoothed</th>\n",
              "      <th>new_tests_smoothed_per_thousand</th>\n",
              "      <th>tests_units</th>\n",
              "      <th>stringency_index</th>\n",
              "      <th>population</th>\n",
              "      <th>population_density</th>\n",
              "      <th>median_age</th>\n",
              "      <th>aged_65_older</th>\n",
              "      <th>aged_70_older</th>\n",
              "      <th>gdp_per_capita</th>\n",
              "      <th>extreme_poverty</th>\n",
              "      <th>cvd_death_rate</th>\n",
              "      <th>diabetes_prevalence</th>\n",
              "      <th>female_smokers</th>\n",
              "      <th>male_smokers</th>\n",
              "      <th>handwashing_facilities</th>\n",
              "      <th>hospital_beds_per_thousand</th>\n",
              "      <th>life_expectancy</th>\n",
              "    </tr>\n",
              "  </thead>\n",
              "  <tbody>\n",
              "    <tr>\n",
              "      <th>4039</th>\n",
              "      <td>BRA</td>\n",
              "      <td>South America</td>\n",
              "      <td>Brazil</td>\n",
              "      <td>2020-03-18</td>\n",
              "      <td>291.0</td>\n",
              "      <td>57.0</td>\n",
              "      <td>1.0</td>\n",
              "      <td>1.0</td>\n",
              "      <td>1.369</td>\n",
              "      <td>0.268</td>\n",
              "      <td>0.005</td>\n",
              "      <td>0.005</td>\n",
              "      <td>NaN</td>\n",
              "      <td>NaN</td>\n",
              "      <td>NaN</td>\n",
              "      <td>NaN</td>\n",
              "      <td>NaN</td>\n",
              "      <td>NaN</td>\n",
              "      <td>NaN</td>\n",
              "      <td>60.65</td>\n",
              "      <td>212559409.0</td>\n",
              "      <td>25.04</td>\n",
              "      <td>33.5</td>\n",
              "      <td>8.552</td>\n",
              "      <td>5.06</td>\n",
              "      <td>14103.452</td>\n",
              "      <td>3.4</td>\n",
              "      <td>177.961</td>\n",
              "      <td>8.11</td>\n",
              "      <td>10.1</td>\n",
              "      <td>17.9</td>\n",
              "      <td>NaN</td>\n",
              "      <td>2.2</td>\n",
              "      <td>75.88</td>\n",
              "    </tr>\n",
              "  </tbody>\n",
              "</table>\n",
              "</div>"
            ],
            "text/plain": [
              "     iso_code      continent  ... hospital_beds_per_thousand life_expectancy\n",
              "4039      BRA  South America  ...                        2.2           75.88\n",
              "\n",
              "[1 rows x 34 columns]"
            ]
          },
          "metadata": {
            "tags": []
          },
          "execution_count": 62
        }
      ]
    },
    {
      "cell_type": "code",
      "metadata": {
        "id": "1DYeY17g27FA",
        "colab_type": "code",
        "colab": {
          "base_uri": "https://localhost:8080/",
          "height": 35
        },
        "outputId": "24ec9156-a50c-4e6e-d346-3a17040e596b"
      },
      "source": [
        "# tempo decorrido entre o primeiro caso e a primeira morte\n",
        "f\"Apenas {(df_brasil.date.loc[4039] -  df_brasil.date.loc[4018]).days} dias após o primeiro caso, registramos a primeira morte.\""
      ],
      "execution_count": null,
      "outputs": [
        {
          "output_type": "execute_result",
          "data": {
            "application/vnd.google.colaboratory.intrinsic": {
              "type": "string"
            },
            "text/plain": [
              "'Apenas 21 dias após o primeiro caso, registramos a primeira morte.'"
            ]
          },
          "metadata": {
            "tags": []
          },
          "execution_count": 63
        }
      ]
    },
    {
      "cell_type": "markdown",
      "metadata": {
        "id": "47RmAzHM4sMP",
        "colab_type": "text"
      },
      "source": [
        "##Evolução dos casos no Brasil\n",
        "\n",
        "Vamos fazer um comparação dos casos e das morte no Brasil em relação a outros países."
      ]
    },
    {
      "cell_type": "code",
      "metadata": {
        "id": "jfchV0Vz4cAs",
        "colab_type": "code",
        "colab": {
          "base_uri": "https://localhost:8080/",
          "height": 585
        },
        "outputId": "b0fb6331-4cf8-4b44-902b-572d28a5d3a2"
      },
      "source": [
        "# plotando gráfico para comparação]\n",
        "fig, ax = plt.subplots(figsize=(12, 8))\n",
        "sns.set_style('darkgrid')\n",
        "font = {'family': 'arial',\n",
        "        'color': 'black',\n",
        "        'weight': 'normal',\n",
        "        'size': 9}\n",
        "df_brasil.plot('date', 'total_cases', ax=ax, logy=True, color='#12e193', linewidth=2, legend=False)\n",
        "plt.grid(False)\n",
        "plt.title(\"Evolução da Covid no Brasil\\n(Escala logarímitica)\", fontsize=14)\n",
        "plt.vlines(x='2020-02-26', ymin=0, ymax=1400000, color='grey')\n",
        "plt.vlines(x='2020-03-18', ymin=0, ymax=1400000, color='grey')\n",
        "ax.tick_params(top=False, bottom=False, right=False, left=True, labelleft=True, labelbottom=True, direction='out')\n",
        "plt.text(x='2020-02-04', y=1380000, s='Primeiro Caso', fontdict=font, fontsize=12)\n",
        "plt.text(x='2020-03-03', y=90000, s='21 dias', fontdict=font, fontsize=12)\n",
        "plt.text(x='2020-03-20', y=1380000, s='Primeira Morte', fontdict=font, fontsize=12)\n",
        "plt.tight_layout()\n",
        "sns.set_style('whitegrid')\n",
        "sns.despine()\n",
        "plt.show()"
      ],
      "execution_count": null,
      "outputs": [
        {
          "output_type": "display_data",
          "data": {
            "image/png": "[encoded data removed]",
            "text/plain": [
              "<Figure size 864x576 with 1 Axes>"
            ]
          },
          "metadata": {
            "tags": []
          }
        }
      ]
    },
    {
      "cell_type": "markdown",
      "metadata": {
        "id": "Ok6PU_rgZtHX",
        "colab_type": "text"
      },
      "source": [
        "##Casos por milhão de habitante\n",
        "\n",
        "É interessante analisarmos também o total de casos por milhão de habitantes. O Brasil támbem está no top 3 dessa lista."
      ]
    },
    {
      "cell_type": "code",
      "metadata": {
        "id": "Np2u1K_cE6Il",
        "colab_type": "code",
        "colab": {
          "base_uri": "https://localhost:8080/",
          "height": 602
        },
        "outputId": "298a1ef1-738b-456d-f357-9566cb8a5ab9"
      },
      "source": [
        "# comparativo de casos por milhão de habitantes\n",
        "def milhao(pais):\n",
        "    font = {'family': 'arial',\n",
        "        'color':  'black',\n",
        "        'weight': 'normal',\n",
        "        'size': 12}\n",
        "    df.loc[df['location'] == pais].plot('date', 'total_cases_per_million', kind='line', ax=ax, linewidth=2, legend=False, color='lightgrey', grid=False)\n",
        "    if pais == 'Brazil':\n",
        "        df.loc[df['location'] == pais].plot('date', 'total_cases_per_million', kind='line', ax=ax, linewidth=2, legend=False,  grid=False)\n",
        "    plt.text(x=df.date.max(), y=df.loc[df['location'] == pais, 'total_cases_per_million'].max(),\n",
        "             s=f\"{pais} ({int(df.loc[df['location'] == pais, 'total_cases_per_million'].max())})\", fontdict=font)    \n",
        "    plt.title(\"Casos confirmados por milhão de habitantes\", fontsize=15)\n",
        "    plt.xticks(color=\"black\")\n",
        "    plt.yticks(color=\"black\")\n",
        "    return\n",
        "\n",
        "paises = ['Brazil', 'Italy', 'France', 'United States', 'Spain', 'Russia']\n",
        "fig, ax = plt.subplots(figsize=(12, 8))\n",
        "sns.set_style('whitegrid')\n",
        "sns.despine()\n",
        "for x in paises:\n",
        "    milhao(x)\n",
        "\n",
        "plt.tight_layout()    \n",
        "plt.show()"
      ],
      "execution_count": null,
      "outputs": [
        {
          "output_type": "stream",
          "text": [
            "findfont: Font family ['arial'] not found. Falling back to DejaVu Sans.\n"
          ],
          "name": "stderr"
        },
        {
          "output_type": "display_data",
          "data": {
            "image/png": "[encoded data removed]",
            "text/plain": [
              "<Figure size 864x576 with 1 Axes>"
            ]
          },
          "metadata": {
            "tags": []
          }
        }
      ]
    },
    {
      "cell_type": "markdown",
      "metadata": {
        "id": "od4laxTokIyo",
        "colab_type": "text"
      },
      "source": [
        "##Taxa de Letalidade\n",
        "\n",
        "Taxa de letalidade (TL) ou coeficiente de letalidade é a proporção entre o número de mortes por uma doença e o número total de doentes que sofrem dessa doença, ao longo de um determinado período de tempo. É geralmente expressa em percentagem.\n",
        "\n",
        "$$\n",
        "\\mathbf{L}\n",
        "=\n",
        "\\frac{F}{E}\n",
        "* 100\n",
        "$$\n",
        "\n",
        "* **L** - taxa de letalidade dos casos.\n",
        "* **F** - Número de mortes por uma doença em um determinado período e área.\n",
        "* **E** - Número de casos diagnosticados pela mesma doença no mesmo período e área.\n",
        "\n",
        "Analisando essa taxa para os últimos 7 dias, ela está em **2.85%**. Visualmente temos>:\n"
      ]
    },
    {
      "cell_type": "code",
      "metadata": {
        "id": "gj7tlSzJaRRE",
        "colab_type": "code",
        "colab": {
          "base_uri": "https://localhost:8080/",
          "height": 34
        },
        "outputId": "6b302e5f-e92f-403a-8bad-6a1aa08e17ed"
      },
      "source": [
        "round(df_brasil.loc[df_brasil['date'] >= '2020-07-08', 'new_deaths'].sum() / df_brasil.loc[df_brasil['date'] >= '2020-07-08', 'new_cases'].sum() * 100, 2)"
      ],
      "execution_count": null,
      "outputs": [
        {
          "output_type": "execute_result",
          "data": {
            "text/plain": [
              "2.88"
            ]
          },
          "metadata": {
            "tags": []
          },
          "execution_count": 66
        }
      ]
    },
    {
      "cell_type": "code",
      "metadata": {
        "id": "XEkrVrAgkHq0",
        "colab_type": "code",
        "colab": {
          "base_uri": "https://localhost:8080/",
          "height": 224
        },
        "outputId": "9f8a3ad9-7ee5-4959-c254-c83a167bc6c0"
      },
      "source": [
        "# taxa de letalidade do virus dos ultimos 7 dias\n",
        "taxa = {'casos' : df_brasil.loc[df_brasil['date'] >= '2020-07-08', 'new_cases'].sum(), 'mortes' : df_brasil.loc[df_brasil['date'] >= '2020-07-08', 'new_deaths'].sum()}\n",
        "\n",
        "# importando biblioteca waffle\n",
        "from pywaffle import Waffle\n",
        "fig = plt.figure(FigureClass=Waffle,\n",
        "                rows=5,\n",
        "                columns=20,\n",
        "                colors=(\"lightgrey\", \"black\"),\n",
        "                values={'Casos' : 97.12, 'Mortes' : 2.88}, icons= 'cross', icon_size=18,\n",
        "                legend={'labels' : ['Casos 97.1%', 'Mortes 2.9%'],\n",
        "                    'loc': 'upper left', 'bbox_to_anchor': (1,1), 'fontsize' : 12},\n",
        "                icon_legend=True, figsize=(12,8))\n",
        "plt.title('Taxa de Letalidade do virus nos ultimos 7 dias', fontsize=14)\n",
        "plt.show()\n"
      ],
      "execution_count": null,
      "outputs": [
        {
          "output_type": "display_data",
          "data": {
            "image/png": "[encoded data removed]",
            "text/plain": [
              "<Waffle size 864x576 with 1 Axes>"
            ]
          },
          "metadata": {
            "tags": []
          }
        }
      ]
    },
    {
      "cell_type": "markdown",
      "metadata": {
        "id": "hrLS7_Uuv8yh",
        "colab_type": "text"
      },
      "source": [
        "##Qual a Tendência?\n",
        "\n",
        "Uma pergunta recorrente é, quando os números de casos e de mortes irão começar a cair. Vamos analisar quando esses picos foram atingidos e verificarmos se ainda estamos em uma tendência de alta ou de baixa."
      ]
    },
    {
      "cell_type": "markdown",
      "metadata": {
        "id": "apu5MHFQVfIS",
        "colab_type": "text"
      },
      "source": [
        "###Casos"
      ]
    },
    {
      "cell_type": "code",
      "metadata": {
        "id": "oyQaEeC_M66o",
        "colab_type": "code",
        "colab": {
          "base_uri": "https://localhost:8080/",
          "height": 882
        },
        "outputId": "6395cf70-2b60-4ef4-8970-15ad2ee8cbf5"
      },
      "source": [
        "# gráfico pico de mortes\n",
        "fig, ax = plt.subplots(figsize=(12, 8))\n",
        "font = {'family': 'arial',\n",
        "        'color':  'black',\n",
        "        'weight': 'normal',\n",
        "        'size': 12}\n",
        "eixox = df.loc[df.location == 'Brazil', ['new_cases', 'date']].sort_values(by='new_cases',ascending=False).head(1)\n",
        "df.loc[df['location']== 'Brazil'].plot('date', 'new_cases', kind='line', ax=ax, legend=False, grid=False, color='#12e193')\n",
        "plt.text(x='2020-06-20', y=eixox.new_cases.max() + 1000, s=f'Pico de casos\\n({int(eixox.new_cases.max())})', fontdict=font, horizontalalignment='center')\n",
        "plt.xlabel('Data')\n",
        "plt.title('Pico de Casos - Brasil', fontsize=14)\n",
        "sns.despine()\n",
        "sns.set_style('whitegrid')\n",
        "plt.show()\n",
        "\n",
        "# decompondo o gráfico para indentificar tendência\n",
        "from statsmodels.tsa.seasonal import seasonal_decompose #importndo seasonal_decompose da biblioteca statsmodel\n",
        "font = {'family': 'arial',\n",
        "        'color':  'black',\n",
        "        'weight': 'normal',\n",
        "        'size': 12}\n",
        "dfbr = df.loc[df.location == 'Brazil', ['new_cases', 'date']]\n",
        "dfbr.index = dfbr.date\n",
        "dfbr.drop('date', axis=1, inplace=True)\n",
        "result = seasonal_decompose(dfbr)\n",
        "fig, ax = plt.subplots(figsize=(12, 5 ))\n",
        "result.trend.plot(legend=False, ax=ax, grid=False, color='#12e193')\n",
        "plt.xlabel('Data')\n",
        "plt.title('Tendência de Casos - Brasil', fontsize=14)\n",
        "sns.despine()\n",
        "sns.set_style('whitegrid')\n",
        "plt.show()"
      ],
      "execution_count": null,
      "outputs": [
        {
          "output_type": "display_data",
          "data": {
            "image/png": "[encoded data removed]",
            "text/plain": [
              "<Figure size 864x576 with 1 Axes>"
            ]
          },
          "metadata": {
            "tags": []
          }
        },
        {
          "output_type": "display_data",
          "data": {
            "image/png": "[encoded data removed]",
            "text/plain": [
              "<Figure size 864x360 with 1 Axes>"
            ]
          },
          "metadata": {
            "tags": []
          }
        }
      ]
    },
    {
      "cell_type": "markdown",
      "metadata": {
        "id": "z9O0utzOqGVQ",
        "colab_type": "text"
      },
      "source": [
        "Dia **20 de junho** o país registrou impressionantes **54771** novos casos da doença."
      ]
    },
    {
      "cell_type": "markdown",
      "metadata": {
        "id": "UTha92xWECwj",
        "colab_type": "text"
      },
      "source": [
        "## Pico de mortes\n",
        "No dia **19 de maio** o Brasil atingiu a impressionante marca de **1.179** em 24h, segundo dados do Ministério de Saude. Calculando a média de mortes diárias a partir desta data, temos **995** mortes.\n",
        "\n",
        "O gráfico a seguir, mostra o pico de mortes e a média de casos.\n"
      ]
    },
    {
      "cell_type": "code",
      "metadata": {
        "id": "H2Lf8I6-aVo3",
        "colab_type": "code",
        "colab": {
          "base_uri": "https://localhost:8080/",
          "height": 554
        },
        "outputId": "4be14c4b-9cfd-48c8-c63b-af93adb230bf"
      },
      "source": [
        "# gráfico pico de mortes e média diária a partir de 1000 casos\n",
        "fig, ax = plt.subplots(figsize=(12, 8))\n",
        "font = {'family': 'arial',\n",
        "        'color':  'black',\n",
        "        'weight': 'normal',\n",
        "        'size': 12}\n",
        "df_brasil.loc[df['date'] >= '2020-05-19'].plot('date', 'new_deaths', ax=ax, color='#980002', legend=False, grid=False)\n",
        "plt.hlines(y=df_brasil.loc[df['date'] >= '2020-05-19', ['date', 'new_deaths']].mean(),\n",
        "           xmin=0, xmax=df_brasil.date.max(), linestyles='dashed', linewidth=3, color='lightgrey')\n",
        "plt.text(x= '2020-06-05', y=1500, s='1473', fontdict=font, horizontalalignment='center' )\n",
        "plt.text(x= df_brasil.date.max(), y= df_brasil.loc[df['date'] >= '2020-05-19',['date', 'new_deaths']].mean(),\n",
        "         s=' Média (995)', fontdict=font, verticalalignment='center')\n",
        "plt.title('Pico de Mortes Diárias', fontsize=14)\n",
        "plt.xlabel('Data')\n",
        "sns.despine()\n",
        "\n"
      ],
      "execution_count": null,
      "outputs": [
        {
          "output_type": "display_data",
          "data": {
            "image/png": "[encoded data removed]",
            "text/plain": [
              "<Figure size 864x576 with 1 Axes>"
            ]
          },
          "metadata": {
            "tags": []
          }
        }
      ]
    },
    {
      "cell_type": "markdown",
      "metadata": {
        "id": "I-UDmaCXiEim",
        "colab_type": "text"
      },
      "source": [
        "Os registros de casos no Brasil sofrem oscilações nos fins de semana, isso se dá por conta da falta de efetivo, já que nos fins de semana diminui-se bastante a quantidade de pessoas trabalhando. E isso fica claro gráfico onde há intervalos abaixo da média."
      ]
    },
    {
      "cell_type": "code",
      "metadata": {
        "id": "IXEtaW_VWEI0",
        "colab_type": "code",
        "colab": {
          "base_uri": "https://localhost:8080/",
          "height": 309
        },
        "outputId": "a1bc9998-f747-46ec-f8ac-c938e2e61ee2"
      },
      "source": [
        "df_brasil.head()"
      ],
      "execution_count": null,
      "outputs": [
        {
          "output_type": "execute_result",
          "data": {
            "text/html": [
              "<div>\n",
              "<style scoped>\n",
              "    .dataframe tbody tr th:only-of-type {\n",
              "        vertical-align: middle;\n",
              "    }\n",
              "\n",
              "    .dataframe tbody tr th {\n",
              "        vertical-align: top;\n",
              "    }\n",
              "\n",
              "    .dataframe thead th {\n",
              "        text-align: right;\n",
              "    }\n",
              "</style>\n",
              "<table border=\"1\" class=\"dataframe\">\n",
              "  <thead>\n",
              "    <tr style=\"text-align: right;\">\n",
              "      <th></th>\n",
              "      <th>iso_code</th>\n",
              "      <th>continent</th>\n",
              "      <th>location</th>\n",
              "      <th>date</th>\n",
              "      <th>total_cases</th>\n",
              "      <th>new_cases</th>\n",
              "      <th>total_deaths</th>\n",
              "      <th>new_deaths</th>\n",
              "      <th>total_cases_per_million</th>\n",
              "      <th>new_cases_per_million</th>\n",
              "      <th>total_deaths_per_million</th>\n",
              "      <th>new_deaths_per_million</th>\n",
              "      <th>total_tests</th>\n",
              "      <th>new_tests</th>\n",
              "      <th>total_tests_per_thousand</th>\n",
              "      <th>new_tests_per_thousand</th>\n",
              "      <th>new_tests_smoothed</th>\n",
              "      <th>new_tests_smoothed_per_thousand</th>\n",
              "      <th>tests_units</th>\n",
              "      <th>stringency_index</th>\n",
              "      <th>population</th>\n",
              "      <th>population_density</th>\n",
              "      <th>median_age</th>\n",
              "      <th>aged_65_older</th>\n",
              "      <th>aged_70_older</th>\n",
              "      <th>gdp_per_capita</th>\n",
              "      <th>extreme_poverty</th>\n",
              "      <th>cvd_death_rate</th>\n",
              "      <th>diabetes_prevalence</th>\n",
              "      <th>female_smokers</th>\n",
              "      <th>male_smokers</th>\n",
              "      <th>handwashing_facilities</th>\n",
              "      <th>hospital_beds_per_thousand</th>\n",
              "      <th>life_expectancy</th>\n",
              "    </tr>\n",
              "  </thead>\n",
              "  <tbody>\n",
              "    <tr>\n",
              "      <th>3961</th>\n",
              "      <td>BRA</td>\n",
              "      <td>South America</td>\n",
              "      <td>Brazil</td>\n",
              "      <td>2019-12-31</td>\n",
              "      <td>0.0</td>\n",
              "      <td>0.0</td>\n",
              "      <td>0.0</td>\n",
              "      <td>0.0</td>\n",
              "      <td>0.0</td>\n",
              "      <td>0.0</td>\n",
              "      <td>0.0</td>\n",
              "      <td>0.0</td>\n",
              "      <td>NaN</td>\n",
              "      <td>NaN</td>\n",
              "      <td>NaN</td>\n",
              "      <td>NaN</td>\n",
              "      <td>NaN</td>\n",
              "      <td>NaN</td>\n",
              "      <td>NaN</td>\n",
              "      <td>NaN</td>\n",
              "      <td>212559409.0</td>\n",
              "      <td>25.04</td>\n",
              "      <td>33.5</td>\n",
              "      <td>8.552</td>\n",
              "      <td>5.06</td>\n",
              "      <td>14103.452</td>\n",
              "      <td>3.4</td>\n",
              "      <td>177.961</td>\n",
              "      <td>8.11</td>\n",
              "      <td>10.1</td>\n",
              "      <td>17.9</td>\n",
              "      <td>NaN</td>\n",
              "      <td>2.2</td>\n",
              "      <td>75.88</td>\n",
              "    </tr>\n",
              "    <tr>\n",
              "      <th>3962</th>\n",
              "      <td>BRA</td>\n",
              "      <td>South America</td>\n",
              "      <td>Brazil</td>\n",
              "      <td>2020-01-01</td>\n",
              "      <td>0.0</td>\n",
              "      <td>0.0</td>\n",
              "      <td>0.0</td>\n",
              "      <td>0.0</td>\n",
              "      <td>0.0</td>\n",
              "      <td>0.0</td>\n",
              "      <td>0.0</td>\n",
              "      <td>0.0</td>\n",
              "      <td>NaN</td>\n",
              "      <td>NaN</td>\n",
              "      <td>NaN</td>\n",
              "      <td>NaN</td>\n",
              "      <td>NaN</td>\n",
              "      <td>NaN</td>\n",
              "      <td>NaN</td>\n",
              "      <td>0.0</td>\n",
              "      <td>212559409.0</td>\n",
              "      <td>25.04</td>\n",
              "      <td>33.5</td>\n",
              "      <td>8.552</td>\n",
              "      <td>5.06</td>\n",
              "      <td>14103.452</td>\n",
              "      <td>3.4</td>\n",
              "      <td>177.961</td>\n",
              "      <td>8.11</td>\n",
              "      <td>10.1</td>\n",
              "      <td>17.9</td>\n",
              "      <td>NaN</td>\n",
              "      <td>2.2</td>\n",
              "      <td>75.88</td>\n",
              "    </tr>\n",
              "    <tr>\n",
              "      <th>3963</th>\n",
              "      <td>BRA</td>\n",
              "      <td>South America</td>\n",
              "      <td>Brazil</td>\n",
              "      <td>2020-01-02</td>\n",
              "      <td>0.0</td>\n",
              "      <td>0.0</td>\n",
              "      <td>0.0</td>\n",
              "      <td>0.0</td>\n",
              "      <td>0.0</td>\n",
              "      <td>0.0</td>\n",
              "      <td>0.0</td>\n",
              "      <td>0.0</td>\n",
              "      <td>NaN</td>\n",
              "      <td>NaN</td>\n",
              "      <td>NaN</td>\n",
              "      <td>NaN</td>\n",
              "      <td>NaN</td>\n",
              "      <td>NaN</td>\n",
              "      <td>NaN</td>\n",
              "      <td>0.0</td>\n",
              "      <td>212559409.0</td>\n",
              "      <td>25.04</td>\n",
              "      <td>33.5</td>\n",
              "      <td>8.552</td>\n",
              "      <td>5.06</td>\n",
              "      <td>14103.452</td>\n",
              "      <td>3.4</td>\n",
              "      <td>177.961</td>\n",
              "      <td>8.11</td>\n",
              "      <td>10.1</td>\n",
              "      <td>17.9</td>\n",
              "      <td>NaN</td>\n",
              "      <td>2.2</td>\n",
              "      <td>75.88</td>\n",
              "    </tr>\n",
              "    <tr>\n",
              "      <th>3964</th>\n",
              "      <td>BRA</td>\n",
              "      <td>South America</td>\n",
              "      <td>Brazil</td>\n",
              "      <td>2020-01-03</td>\n",
              "      <td>0.0</td>\n",
              "      <td>0.0</td>\n",
              "      <td>0.0</td>\n",
              "      <td>0.0</td>\n",
              "      <td>0.0</td>\n",
              "      <td>0.0</td>\n",
              "      <td>0.0</td>\n",
              "      <td>0.0</td>\n",
              "      <td>NaN</td>\n",
              "      <td>NaN</td>\n",
              "      <td>NaN</td>\n",
              "      <td>NaN</td>\n",
              "      <td>NaN</td>\n",
              "      <td>NaN</td>\n",
              "      <td>NaN</td>\n",
              "      <td>0.0</td>\n",
              "      <td>212559409.0</td>\n",
              "      <td>25.04</td>\n",
              "      <td>33.5</td>\n",
              "      <td>8.552</td>\n",
              "      <td>5.06</td>\n",
              "      <td>14103.452</td>\n",
              "      <td>3.4</td>\n",
              "      <td>177.961</td>\n",
              "      <td>8.11</td>\n",
              "      <td>10.1</td>\n",
              "      <td>17.9</td>\n",
              "      <td>NaN</td>\n",
              "      <td>2.2</td>\n",
              "      <td>75.88</td>\n",
              "    </tr>\n",
              "    <tr>\n",
              "      <th>3965</th>\n",
              "      <td>BRA</td>\n",
              "      <td>South America</td>\n",
              "      <td>Brazil</td>\n",
              "      <td>2020-01-04</td>\n",
              "      <td>0.0</td>\n",
              "      <td>0.0</td>\n",
              "      <td>0.0</td>\n",
              "      <td>0.0</td>\n",
              "      <td>0.0</td>\n",
              "      <td>0.0</td>\n",
              "      <td>0.0</td>\n",
              "      <td>0.0</td>\n",
              "      <td>NaN</td>\n",
              "      <td>NaN</td>\n",
              "      <td>NaN</td>\n",
              "      <td>NaN</td>\n",
              "      <td>NaN</td>\n",
              "      <td>NaN</td>\n",
              "      <td>NaN</td>\n",
              "      <td>0.0</td>\n",
              "      <td>212559409.0</td>\n",
              "      <td>25.04</td>\n",
              "      <td>33.5</td>\n",
              "      <td>8.552</td>\n",
              "      <td>5.06</td>\n",
              "      <td>14103.452</td>\n",
              "      <td>3.4</td>\n",
              "      <td>177.961</td>\n",
              "      <td>8.11</td>\n",
              "      <td>10.1</td>\n",
              "      <td>17.9</td>\n",
              "      <td>NaN</td>\n",
              "      <td>2.2</td>\n",
              "      <td>75.88</td>\n",
              "    </tr>\n",
              "  </tbody>\n",
              "</table>\n",
              "</div>"
            ],
            "text/plain": [
              "     iso_code      continent  ... hospital_beds_per_thousand life_expectancy\n",
              "3961      BRA  South America  ...                        2.2           75.88\n",
              "3962      BRA  South America  ...                        2.2           75.88\n",
              "3963      BRA  South America  ...                        2.2           75.88\n",
              "3964      BRA  South America  ...                        2.2           75.88\n",
              "3965      BRA  South America  ...                        2.2           75.88\n",
              "\n",
              "[5 rows x 34 columns]"
            ]
          },
          "metadata": {
            "tags": []
          },
          "execution_count": 71
        }
      ]
    },
    {
      "cell_type": "code",
      "metadata": {
        "id": "N5ubEtT8C7Jo",
        "colab_type": "code",
        "colab": {
          "base_uri": "https://localhost:8080/",
          "height": 34
        },
        "outputId": "96af86cc-20b6-4706-8b12-a99c52f847d6"
      },
      "source": [
        "df_brasil.loc[df['new_deaths'] >= 1000, 'new_deaths'].mean()"
      ],
      "execution_count": null,
      "outputs": [
        {
          "output_type": "execute_result",
          "data": {
            "text/plain": [
              "1201.6944444444443"
            ]
          },
          "metadata": {
            "tags": []
          },
          "execution_count": 239
        }
      ]
    },
    {
      "cell_type": "markdown",
      "metadata": {
        "id": "CiiQjtJCpjFU",
        "colab_type": "text"
      },
      "source": [
        "No dia **04 de Junho**  O Brasil atingiu a impressionante marca de **1473** mortes por Covid-19."
      ]
    },
    {
      "cell_type": "markdown",
      "metadata": {
        "id": "dlBUBe0scC3u",
        "colab_type": "text"
      },
      "source": [
        "Após o pico de casos os números, apesar de exorbitantes, parecem estar se estabilizando. Há expectitava de que os números voltem a subir, pois muitos estados estão em processo de reaberuta do comércio mesmo com os números tão altos. E essa preocupação faz sentido, pois os Estados Unidos começaram a reabertua com números muitos altos e poucas semanas depois os números de casos diários voltaram crescer.\n",
        "\n",
        "Vamos plotar um gráfico para melhor entendimento desta situação."
      ]
    },
    {
      "cell_type": "code",
      "metadata": {
        "id": "eEDIew87eirm",
        "colab_type": "code",
        "colab": {
          "base_uri": "https://localhost:8080/",
          "height": 531
        },
        "outputId": "9bc7a632-6311-4b41-94bc-c55a960a7a37"
      },
      "source": [
        "# grafico de casos dos Estados Unidos\n",
        "fig, ax = plt.subplots(figsize=(12,8))\n",
        "df.loc[df['location'] == 'United States'].plot('date', 'new_cases', ax=ax, legend=False, grid=False, color='#12e193')\n",
        "sns.despine()\n",
        "plt.title('Casos Confirmados - Estados Unidos', fontsize=14)\n",
        "plt.text(x='2020-04-24', y=df.loc[df['location'] == 'United States', 'new_cases'].max() + 1000, s='Início da reabertura', horizontalalignment='center')\n",
        "plt.vlines(x='2020-04-24', ymin= 0, ymax=df.loc[df['location'] == 'United States', 'new_cases'].max(), color='gray')\n",
        "plt.xlabel('Data')\n",
        "sns.set_style('whitegrid')\n",
        "plt.show()"
      ],
      "execution_count": null,
      "outputs": [
        {
          "output_type": "display_data",
          "data": {
            "image/png": "[encoded data removed]",
            "text/plain": [
              "<Figure size 864x576 with 1 Axes>"
            ]
          },
          "metadata": {
            "tags": []
          }
        }
      ]
    },
    {
      "cell_type": "markdown",
      "metadata": {
        "id": "JyOCR2ixy5YH",
        "colab_type": "text"
      },
      "source": [
        "Como visto no gráfico acima, algums semanas após o processo de reabertura, os casos diários de covid disparam e atingiram **66.625 casos** no dia 14 de Julho."
      ]
    },
    {
      "cell_type": "markdown",
      "metadata": {
        "id": "vj_tak0NYIiw",
        "colab_type": "text"
      },
      "source": [
        "Vamos comparar a curva do Brasil com as de outros paíse."
      ]
    },
    {
      "cell_type": "code",
      "metadata": {
        "id": "23HsQwUw11VT",
        "colab_type": "code",
        "colab": {
          "base_uri": "https://localhost:8080/",
          "height": 309
        },
        "outputId": "dad20306-bc32-4e49-ff86-5fa232b52ff9"
      },
      "source": [
        "df.head()"
      ],
      "execution_count": null,
      "outputs": [
        {
          "output_type": "execute_result",
          "data": {
            "text/html": [
              "<div>\n",
              "<style scoped>\n",
              "    .dataframe tbody tr th:only-of-type {\n",
              "        vertical-align: middle;\n",
              "    }\n",
              "\n",
              "    .dataframe tbody tr th {\n",
              "        vertical-align: top;\n",
              "    }\n",
              "\n",
              "    .dataframe thead th {\n",
              "        text-align: right;\n",
              "    }\n",
              "</style>\n",
              "<table border=\"1\" class=\"dataframe\">\n",
              "  <thead>\n",
              "    <tr style=\"text-align: right;\">\n",
              "      <th></th>\n",
              "      <th>iso_code</th>\n",
              "      <th>continent</th>\n",
              "      <th>location</th>\n",
              "      <th>date</th>\n",
              "      <th>total_cases</th>\n",
              "      <th>new_cases</th>\n",
              "      <th>total_deaths</th>\n",
              "      <th>new_deaths</th>\n",
              "      <th>total_cases_per_million</th>\n",
              "      <th>new_cases_per_million</th>\n",
              "      <th>total_deaths_per_million</th>\n",
              "      <th>new_deaths_per_million</th>\n",
              "      <th>total_tests</th>\n",
              "      <th>new_tests</th>\n",
              "      <th>total_tests_per_thousand</th>\n",
              "      <th>new_tests_per_thousand</th>\n",
              "      <th>new_tests_smoothed</th>\n",
              "      <th>new_tests_smoothed_per_thousand</th>\n",
              "      <th>tests_units</th>\n",
              "      <th>stringency_index</th>\n",
              "      <th>population</th>\n",
              "      <th>population_density</th>\n",
              "      <th>median_age</th>\n",
              "      <th>aged_65_older</th>\n",
              "      <th>aged_70_older</th>\n",
              "      <th>gdp_per_capita</th>\n",
              "      <th>extreme_poverty</th>\n",
              "      <th>cvd_death_rate</th>\n",
              "      <th>diabetes_prevalence</th>\n",
              "      <th>female_smokers</th>\n",
              "      <th>male_smokers</th>\n",
              "      <th>handwashing_facilities</th>\n",
              "      <th>hospital_beds_per_thousand</th>\n",
              "      <th>life_expectancy</th>\n",
              "    </tr>\n",
              "  </thead>\n",
              "  <tbody>\n",
              "    <tr>\n",
              "      <th>0</th>\n",
              "      <td>AFG</td>\n",
              "      <td>Asia</td>\n",
              "      <td>Afghanistan</td>\n",
              "      <td>2019-12-31</td>\n",
              "      <td>0.0</td>\n",
              "      <td>0.0</td>\n",
              "      <td>0.0</td>\n",
              "      <td>0.0</td>\n",
              "      <td>0.0</td>\n",
              "      <td>0.0</td>\n",
              "      <td>0.0</td>\n",
              "      <td>0.0</td>\n",
              "      <td>NaN</td>\n",
              "      <td>NaN</td>\n",
              "      <td>NaN</td>\n",
              "      <td>NaN</td>\n",
              "      <td>NaN</td>\n",
              "      <td>NaN</td>\n",
              "      <td>NaN</td>\n",
              "      <td>NaN</td>\n",
              "      <td>38928341.0</td>\n",
              "      <td>54.422</td>\n",
              "      <td>18.6</td>\n",
              "      <td>2.581</td>\n",
              "      <td>1.337</td>\n",
              "      <td>1803.987</td>\n",
              "      <td>NaN</td>\n",
              "      <td>597.029</td>\n",
              "      <td>9.59</td>\n",
              "      <td>NaN</td>\n",
              "      <td>NaN</td>\n",
              "      <td>37.746</td>\n",
              "      <td>0.5</td>\n",
              "      <td>64.83</td>\n",
              "    </tr>\n",
              "    <tr>\n",
              "      <th>1</th>\n",
              "      <td>AFG</td>\n",
              "      <td>Asia</td>\n",
              "      <td>Afghanistan</td>\n",
              "      <td>2020-01-01</td>\n",
              "      <td>0.0</td>\n",
              "      <td>0.0</td>\n",
              "      <td>0.0</td>\n",
              "      <td>0.0</td>\n",
              "      <td>0.0</td>\n",
              "      <td>0.0</td>\n",
              "      <td>0.0</td>\n",
              "      <td>0.0</td>\n",
              "      <td>NaN</td>\n",
              "      <td>NaN</td>\n",
              "      <td>NaN</td>\n",
              "      <td>NaN</td>\n",
              "      <td>NaN</td>\n",
              "      <td>NaN</td>\n",
              "      <td>NaN</td>\n",
              "      <td>0.0</td>\n",
              "      <td>38928341.0</td>\n",
              "      <td>54.422</td>\n",
              "      <td>18.6</td>\n",
              "      <td>2.581</td>\n",
              "      <td>1.337</td>\n",
              "      <td>1803.987</td>\n",
              "      <td>NaN</td>\n",
              "      <td>597.029</td>\n",
              "      <td>9.59</td>\n",
              "      <td>NaN</td>\n",
              "      <td>NaN</td>\n",
              "      <td>37.746</td>\n",
              "      <td>0.5</td>\n",
              "      <td>64.83</td>\n",
              "    </tr>\n",
              "    <tr>\n",
              "      <th>2</th>\n",
              "      <td>AFG</td>\n",
              "      <td>Asia</td>\n",
              "      <td>Afghanistan</td>\n",
              "      <td>2020-01-02</td>\n",
              "      <td>0.0</td>\n",
              "      <td>0.0</td>\n",
              "      <td>0.0</td>\n",
              "      <td>0.0</td>\n",
              "      <td>0.0</td>\n",
              "      <td>0.0</td>\n",
              "      <td>0.0</td>\n",
              "      <td>0.0</td>\n",
              "      <td>NaN</td>\n",
              "      <td>NaN</td>\n",
              "      <td>NaN</td>\n",
              "      <td>NaN</td>\n",
              "      <td>NaN</td>\n",
              "      <td>NaN</td>\n",
              "      <td>NaN</td>\n",
              "      <td>0.0</td>\n",
              "      <td>38928341.0</td>\n",
              "      <td>54.422</td>\n",
              "      <td>18.6</td>\n",
              "      <td>2.581</td>\n",
              "      <td>1.337</td>\n",
              "      <td>1803.987</td>\n",
              "      <td>NaN</td>\n",
              "      <td>597.029</td>\n",
              "      <td>9.59</td>\n",
              "      <td>NaN</td>\n",
              "      <td>NaN</td>\n",
              "      <td>37.746</td>\n",
              "      <td>0.5</td>\n",
              "      <td>64.83</td>\n",
              "    </tr>\n",
              "    <tr>\n",
              "      <th>3</th>\n",
              "      <td>AFG</td>\n",
              "      <td>Asia</td>\n",
              "      <td>Afghanistan</td>\n",
              "      <td>2020-01-03</td>\n",
              "      <td>0.0</td>\n",
              "      <td>0.0</td>\n",
              "      <td>0.0</td>\n",
              "      <td>0.0</td>\n",
              "      <td>0.0</td>\n",
              "      <td>0.0</td>\n",
              "      <td>0.0</td>\n",
              "      <td>0.0</td>\n",
              "      <td>NaN</td>\n",
              "      <td>NaN</td>\n",
              "      <td>NaN</td>\n",
              "      <td>NaN</td>\n",
              "      <td>NaN</td>\n",
              "      <td>NaN</td>\n",
              "      <td>NaN</td>\n",
              "      <td>0.0</td>\n",
              "      <td>38928341.0</td>\n",
              "      <td>54.422</td>\n",
              "      <td>18.6</td>\n",
              "      <td>2.581</td>\n",
              "      <td>1.337</td>\n",
              "      <td>1803.987</td>\n",
              "      <td>NaN</td>\n",
              "      <td>597.029</td>\n",
              "      <td>9.59</td>\n",
              "      <td>NaN</td>\n",
              "      <td>NaN</td>\n",
              "      <td>37.746</td>\n",
              "      <td>0.5</td>\n",
              "      <td>64.83</td>\n",
              "    </tr>\n",
              "    <tr>\n",
              "      <th>4</th>\n",
              "      <td>AFG</td>\n",
              "      <td>Asia</td>\n",
              "      <td>Afghanistan</td>\n",
              "      <td>2020-01-04</td>\n",
              "      <td>0.0</td>\n",
              "      <td>0.0</td>\n",
              "      <td>0.0</td>\n",
              "      <td>0.0</td>\n",
              "      <td>0.0</td>\n",
              "      <td>0.0</td>\n",
              "      <td>0.0</td>\n",
              "      <td>0.0</td>\n",
              "      <td>NaN</td>\n",
              "      <td>NaN</td>\n",
              "      <td>NaN</td>\n",
              "      <td>NaN</td>\n",
              "      <td>NaN</td>\n",
              "      <td>NaN</td>\n",
              "      <td>NaN</td>\n",
              "      <td>0.0</td>\n",
              "      <td>38928341.0</td>\n",
              "      <td>54.422</td>\n",
              "      <td>18.6</td>\n",
              "      <td>2.581</td>\n",
              "      <td>1.337</td>\n",
              "      <td>1803.987</td>\n",
              "      <td>NaN</td>\n",
              "      <td>597.029</td>\n",
              "      <td>9.59</td>\n",
              "      <td>NaN</td>\n",
              "      <td>NaN</td>\n",
              "      <td>37.746</td>\n",
              "      <td>0.5</td>\n",
              "      <td>64.83</td>\n",
              "    </tr>\n",
              "  </tbody>\n",
              "</table>\n",
              "</div>"
            ],
            "text/plain": [
              "  iso_code continent  ... hospital_beds_per_thousand life_expectancy\n",
              "0      AFG      Asia  ...                        0.5           64.83\n",
              "1      AFG      Asia  ...                        0.5           64.83\n",
              "2      AFG      Asia  ...                        0.5           64.83\n",
              "3      AFG      Asia  ...                        0.5           64.83\n",
              "4      AFG      Asia  ...                        0.5           64.83\n",
              "\n",
              "[5 rows x 34 columns]"
            ]
          },
          "metadata": {
            "tags": []
          },
          "execution_count": 74
        }
      ]
    }
  ]
}